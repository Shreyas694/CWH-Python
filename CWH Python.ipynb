{
 "cells": [
  {
   "cell_type": "code",
   "execution_count": 4,
   "id": "0b5f9bd6",
   "metadata": {},
   "outputs": [
    {
     "name": "stdout",
     "output_type": "stream",
     "text": [
      "Enter your name:\"Shreyas\"\n"
     ]
    }
   ],
   "source": [
    "# DAY-10 CWH Python: Taking \"Input Functions\" from the user \n",
    "\n",
    "a = input(\"Enter your name:\")"
   ]
  },
  {
   "cell_type": "code",
   "execution_count": 5,
   "id": "9ac31b91",
   "metadata": {},
   "outputs": [
    {
     "name": "stdout",
     "output_type": "stream",
     "text": [
      "My name is \"Shreyas\"\n"
     ]
    }
   ],
   "source": [
    "print(\"My name is\",a)"
   ]
  },
  {
   "cell_type": "code",
   "execution_count": 9,
   "id": "09b1ee8b",
   "metadata": {},
   "outputs": [
    {
     "name": "stdout",
     "output_type": "stream",
     "text": [
      "Enter first number: 6\n",
      "Enter second number:8\n"
     ]
    }
   ],
   "source": [
    "x = int(input(\"Enter first number: \"))\n",
    "y = int(input(\"Enter second number:\"))\n",
    "\n",
    "# Anything that comes in an input function is in a String format to avoid that we need to define the input function with the \n",
    "# Inbuilt or the external functions in Python\n",
    "\n"
   ]
  },
  {
   "cell_type": "code",
   "execution_count": 10,
   "id": "31e0673a",
   "metadata": {},
   "outputs": [
    {
     "name": "stdout",
     "output_type": "stream",
     "text": [
      "14\n"
     ]
    }
   ],
   "source": [
    "print(x+y)"
   ]
  },
  {
   "cell_type": "code",
   "execution_count": 12,
   "id": "14e9dc90",
   "metadata": {},
   "outputs": [
    {
     "name": "stdout",
     "output_type": "stream",
     "text": [
      "Enter first number: 47 \n",
      "Enter second number:799\n",
      "846\n"
     ]
    }
   ],
   "source": [
    "x = input(\"Enter first number: \")\n",
    "y = input(\"Enter second number:\")\n",
    "     \n",
    "print(int(x)+int(y))"
   ]
  },
  {
   "cell_type": "code",
   "execution_count": 100,
   "id": "6b9a7a69",
   "metadata": {},
   "outputs": [
    {
     "name": "stdout",
     "output_type": "stream",
     "text": [
      "Enter first number: y\n",
      "Enter second number:u\n",
      "yu\n"
     ]
    }
   ],
   "source": [
    "x = input(\"Enter first number: \")\n",
    "y = input( \"Enter second number:\")\n",
    "\n",
    "print (x+ y)\n",
    "     "
   ]
  },
  {
   "cell_type": "code",
   "execution_count": 15,
   "id": "866827b1",
   "metadata": {},
   "outputs": [
    {
     "name": "stdout",
     "output_type": "stream",
     "text": [
      "Hellow,Shreyas\n"
     ]
    }
   ],
   "source": [
    "# Day-11: \"Strings\" It is essentially a sequence or an array of textual data,which is enclosed in a 'single' or \"double\" quotes\n",
    "# \"Strings\" are used while working with unicode characters.\n",
    "\n",
    "name = \"Shreyas\"\n",
    "print(\"Hellow,\" + name)"
   ]
  },
  {
   "cell_type": "code",
   "execution_count": 51,
   "id": "240054b1",
   "metadata": {},
   "outputs": [
    {
     "name": "stdout",
     "output_type": "stream",
     "text": [
      "Shre\n"
     ]
    }
   ],
   "source": [
    "# Slicing of String\n",
    "print(name[0:4])"
   ]
  },
  {
   "cell_type": "markdown",
   "id": "5f00366d",
   "metadata": {},
   "source": [
    "print(name[-1])"
   ]
  },
  {
   "cell_type": "code",
   "execution_count": 71,
   "id": "d3e074e7",
   "metadata": {},
   "outputs": [
    {
     "name": "stdout",
     "output_type": "stream",
     "text": [
      "Shreyas\n"
     ]
    }
   ],
   "source": [
    "print(name[:7])"
   ]
  },
  {
   "cell_type": "code",
   "execution_count": 76,
   "id": "0aa64a1a",
   "metadata": {},
   "outputs": [
    {
     "name": "stdout",
     "output_type": "stream",
     "text": [
      "h\n",
      "reyas\n"
     ]
    }
   ],
   "source": [
    "print(name[1])\n",
    "print(name[2:7])\n"
   ]
  },
  {
   "cell_type": "code",
   "execution_count": 78,
   "id": "bd6175be",
   "metadata": {},
   "outputs": [
    {
     "name": "stdout",
     "output_type": "stream",
     "text": [
      "S\n",
      "h\n",
      "r\n",
      "e\n",
      "y\n",
      "a\n",
      "s\n"
     ]
    }
   ],
   "source": [
    "# We can also use \"For Loop\" to print different characters of the name in a series of Rows \n",
    "for characters in name:\n",
    "    print(characters)"
   ]
  },
  {
   "cell_type": "code",
   "execution_count": 92,
   "id": "b37b7e09",
   "metadata": {},
   "outputs": [
    {
     "name": "stdout",
     "output_type": "stream",
     "text": [
      "16\n"
     ]
    }
   ],
   "source": [
    "# DAY-12: \"String Slicing\" and \"Operations\" on strings in Python \n",
    "# For functions we use paranthesis and for Slicng we use square brackets ie.,[]\n",
    "name = \"Shreyas, Chillal\"\n",
    "print(len(name))\n",
    "\n"
   ]
  },
  {
   "cell_type": "code",
   "execution_count": 95,
   "id": "71282217",
   "metadata": {},
   "outputs": [
    {
     "name": "stdout",
     "output_type": "stream",
     "text": [
      "5\n"
     ]
    }
   ],
   "source": [
    "fruit = \"Mango\"\n",
    "MangoLen = len(fruit)\n",
    "print(MangoLen)"
   ]
  },
  {
   "cell_type": "code",
   "execution_count": 98,
   "id": "a1299b9b",
   "metadata": {},
   "outputs": [
    {
     "name": "stdout",
     "output_type": "stream",
     "text": [
      "Mango\n"
     ]
    }
   ],
   "source": [
    "print(fruit[0:])"
   ]
  },
  {
   "cell_type": "code",
   "execution_count": 99,
   "id": "dcf2a122",
   "metadata": {},
   "outputs": [
    {
     "name": "stdout",
     "output_type": "stream",
     "text": [
      "Mango\n"
     ]
    }
   ],
   "source": [
    "print(fruit[:])"
   ]
  },
  {
   "cell_type": "code",
   "execution_count": 100,
   "id": "134c548c",
   "metadata": {},
   "outputs": [
    {
     "name": "stdout",
     "output_type": "stream",
     "text": [
      "Mango\n"
     ]
    }
   ],
   "source": [
    "print(fruit[0:])"
   ]
  },
  {
   "cell_type": "code",
   "execution_count": 102,
   "id": "37e033b0",
   "metadata": {},
   "outputs": [
    {
     "name": "stdout",
     "output_type": "stream",
     "text": [
      "Mango\n"
     ]
    }
   ],
   "source": [
    "print(fruit[: :])"
   ]
  },
  {
   "cell_type": "code",
   "execution_count": 111,
   "id": "059b772d",
   "metadata": {},
   "outputs": [
    {
     "name": "stdout",
     "output_type": "stream",
     "text": [
      "Mang\n"
     ]
    }
   ],
   "source": [
    "print(fruit[:-1:])"
   ]
  },
  {
   "cell_type": "code",
   "execution_count": 112,
   "id": "b7ff725b",
   "metadata": {},
   "outputs": [
    {
     "name": "stdout",
     "output_type": "stream",
     "text": [
      "o\n"
     ]
    }
   ],
   "source": [
    "print(fruit[-1:])\n"
   ]
  },
  {
   "cell_type": "code",
   "execution_count": 113,
   "id": "7bdb1d80",
   "metadata": {},
   "outputs": [
    {
     "name": "stdout",
     "output_type": "stream",
     "text": [
      "Mang\n"
     ]
    }
   ],
   "source": [
    "print(fruit[:-1])"
   ]
  },
  {
   "cell_type": "code",
   "execution_count": 114,
   "id": "7cf65beb",
   "metadata": {},
   "outputs": [
    {
     "name": "stdout",
     "output_type": "stream",
     "text": [
      "Man\n"
     ]
    }
   ],
   "source": [
    "print(fruit[: -2])"
   ]
  },
  {
   "cell_type": "code",
   "execution_count": 20,
   "id": "d3424e1f",
   "metadata": {},
   "outputs": [
    {
     "name": "stdout",
     "output_type": "stream",
     "text": [
      "World as i see It-Albert Einstein \n"
     ]
    }
   ],
   "source": [
    "a = print(\"World as i see It-Albert Einstein \")"
   ]
  },
  {
   "cell_type": "code",
   "execution_count": 6,
   "id": "ce4c9f5a",
   "metadata": {},
   "outputs": [
    {
     "name": "stdout",
     "output_type": "stream",
     "text": [
      "None\n"
     ]
    }
   ],
   "source": [
    "print(a)"
   ]
  },
  {
   "cell_type": "code",
   "execution_count": 21,
   "id": "493d51fe",
   "metadata": {},
   "outputs": [
    {
     "name": "stdout",
     "output_type": "stream",
     "text": [
      "This book consists of 77 Essays which are divied into four parts\n"
     ]
    }
   ],
   "source": [
    "print(\"This book consists of 77 Essays which are divied into four parts\")\n"
   ]
  },
  {
   "cell_type": "code",
   "execution_count": 54,
   "id": "0e2c2df9",
   "metadata": {},
   "outputs": [],
   "source": [
    "first = \"The world as I see it - 28 Essays\"\n",
    "second = \"Politics and pacifism- 25 Essays \"\n",
    "Third = \"About the Germany-3 Essays\"\n",
    "Fourth = \"The Jews - 11 Essays \""
   ]
  },
  {
   "cell_type": "code",
   "execution_count": 106,
   "id": "59614036",
   "metadata": {},
   "outputs": [
    {
     "ename": "NameError",
     "evalue": "name 'first' is not defined",
     "output_type": "error",
     "traceback": [
      "\u001b[1;31m---------------------------------------------------------------------------\u001b[0m",
      "\u001b[1;31mNameError\u001b[0m                                 Traceback (most recent call last)",
      "Cell \u001b[1;32mIn[106], line 1\u001b[0m\n\u001b[1;32m----> 1\u001b[0m book \u001b[38;5;241m=\u001b[39m \u001b[38;5;124mf\u001b[39m\u001b[38;5;124m'\u001b[39m\u001b[38;5;132;01m{\u001b[39;00mfirst\u001b[38;5;132;01m}\u001b[39;00m\u001b[38;5;124m \u001b[39m\u001b[38;5;132;01m{\u001b[39;00msecond\u001b[38;5;132;01m}\u001b[39;00m\u001b[38;5;124m \u001b[39m\u001b[38;5;132;01m{\u001b[39;00mThird\u001b[38;5;132;01m}\u001b[39;00m\u001b[38;5;124m \u001b[39m\u001b[38;5;132;01m{\u001b[39;00mFourth\u001b[38;5;132;01m}\u001b[39;00m\u001b[38;5;124m'\u001b[39m\n",
      "\u001b[1;31mNameError\u001b[0m: name 'first' is not defined"
     ]
    }
   ],
   "source": [
    "book = f'{first} {second} {Third} {Fourth}'  \n"
   ]
  },
  {
   "cell_type": "code",
   "execution_count": 56,
   "id": "9b506832",
   "metadata": {},
   "outputs": [
    {
     "name": "stdout",
     "output_type": "stream",
     "text": [
      "The world as I see it - 28 Essays Politics and pacifism- 25 Essays  About the Germany-3 Essays The Jews - 11 Essays \n"
     ]
    }
   ],
   "source": [
    "print(book)"
   ]
  },
  {
   "cell_type": "code",
   "execution_count": 10,
   "id": "bd0ed2c6",
   "metadata": {},
   "outputs": [
    {
     "name": "stdout",
     "output_type": "stream",
     "text": [
      "5\n"
     ]
    }
   ],
   "source": [
    "fruit = \"Mango\"\n",
    "MangoLen = len(fruit)\n",
    "print(MangoLen)"
   ]
  },
  {
   "cell_type": "code",
   "execution_count": 12,
   "id": "7d4a6973",
   "metadata": {},
   "outputs": [
    {
     "name": "stdout",
     "output_type": "stream",
     "text": [
      "Mang\n"
     ]
    }
   ],
   "source": [
    "print(fruit[0:4])"
   ]
  },
  {
   "cell_type": "code",
   "execution_count": 13,
   "id": "8d600c78",
   "metadata": {},
   "outputs": [
    {
     "name": "stdout",
     "output_type": "stream",
     "text": [
      "ang\n"
     ]
    }
   ],
   "source": [
    "print(fruit[1:4])"
   ]
  },
  {
   "cell_type": "code",
   "execution_count": 15,
   "id": "3c30429c",
   "metadata": {},
   "outputs": [
    {
     "name": "stdout",
     "output_type": "stream",
     "text": [
      "Mango\n"
     ]
    }
   ],
   "source": [
    "print(fruit[:5])"
   ]
  },
  {
   "cell_type": "code",
   "execution_count": 16,
   "id": "66f6d097",
   "metadata": {},
   "outputs": [
    {
     "name": "stdout",
     "output_type": "stream",
     "text": [
      "Ma\n"
     ]
    }
   ],
   "source": [
    "print(fruit[0:-3])"
   ]
  },
  {
   "cell_type": "code",
   "execution_count": 17,
   "id": "a021ee30",
   "metadata": {},
   "outputs": [
    {
     "name": "stdout",
     "output_type": "stream",
     "text": [
      "ng\n"
     ]
    }
   ],
   "source": [
    "print(fruit[-3:-1])"
   ]
  },
  {
   "cell_type": "code",
   "execution_count": 19,
   "id": "8b2bf798",
   "metadata": {},
   "outputs": [
    {
     "name": "stdout",
     "output_type": "stream",
     "text": [
      "\n"
     ]
    }
   ],
   "source": [
    "print(fruit[-3:0])"
   ]
  },
  {
   "cell_type": "code",
   "execution_count": 20,
   "id": "ee1e7d06",
   "metadata": {},
   "outputs": [
    {
     "name": "stdout",
     "output_type": "stream",
     "text": [
      "\n"
     ]
    }
   ],
   "source": [
    "print(fruit[2:0])"
   ]
  },
  {
   "cell_type": "code",
   "execution_count": 21,
   "id": "d261a09f",
   "metadata": {},
   "outputs": [
    {
     "name": "stdout",
     "output_type": "stream",
     "text": [
      "Mango\n"
     ]
    }
   ],
   "source": [
    "print(fruit[0:7])\n",
    "\n",
    "# Including 0 but not 7"
   ]
  },
  {
   "cell_type": "code",
   "execution_count": 24,
   "id": "da854391",
   "metadata": {},
   "outputs": [
    {
     "name": "stdout",
     "output_type": "stream",
     "text": [
      "Mang\n"
     ]
    }
   ],
   "source": [
    " print(fruit[0:-1])\n",
    "\n",
    "# 0 to -1 is same as the 0 to \"length of the string\" -1 "
   ]
  },
  {
   "cell_type": "code",
   "execution_count": 27,
   "id": "86837ca8",
   "metadata": {},
   "outputs": [
    {
     "name": "stdout",
     "output_type": "stream",
     "text": [
      "ar\n"
     ]
    }
   ],
   "source": [
    "# Quick Quiz\n",
    "nm = \"Harry\"\n",
    "print(nm[-4:-2])\n",
    "# String length -4 = 5-4=1 and String length-2 = 5-2 = 3 same as print(nm[1:3])\n"
   ]
  },
  {
   "cell_type": "code",
   "execution_count": 28,
   "id": "b867974a",
   "metadata": {},
   "outputs": [
    {
     "name": "stdout",
     "output_type": "stream",
     "text": [
      "ar\n"
     ]
    }
   ],
   "source": [
    "print(nm[1:3])"
   ]
  },
  {
   "cell_type": "code",
   "execution_count": 2,
   "id": "bdb42770",
   "metadata": {},
   "outputs": [],
   "source": [
    "# Day-13: \"String Methods\" in Python:\n",
    "# \"Strings\" are immutable whre as \"Lists\" are Mutable Data Types \n",
    "# 1 Capitalize() Coverts the first character to upper Case\n",
    "# 2.Casefold() converts the strings into the lower case\n",
    "# 3.Center() Returns a centered string \n",
    "# 4.isascii() Returns True if all Charecters in a string are ascii character\n",
    "# 5.istitle() Returns True if all characters in a string are follow the rule of the title\n",
    "# 6.lower() Converts string into the lower case\n",
    "# 7.encode() Return the encoded version of the string in ' '\n",
    "# 8.split() Splits the seperated character\n",
    "# 9.isalnum() Returns True only if the entire string only consists A-Z,a-z,0-9.if any other characters or punctutuations are present it returns Fal\n",
    "# 10.isalpha() returns True only if the entire string consists of Alphabets only whithout any special characters or comma,backtick\n",
    "# 11.isprintable() returns True if the entire string is printable\n",
    "# 12.swapcase() converts Lowercase letters to upper case and upper case letter to lowercase\n",
    "a = \"chris hadfield\""
   ]
  },
  {
   "cell_type": "code",
   "execution_count": 16,
   "id": "0e7ccf71",
   "metadata": {},
   "outputs": [
    {
     "name": "stdout",
     "output_type": "stream",
     "text": [
      "Chris hadfield\n"
     ]
    }
   ],
   "source": [
    "print(a.capitalize ())"
   ]
  },
  {
   "cell_type": "code",
   "execution_count": 23,
   "id": "de4d9ce6",
   "metadata": {},
   "outputs": [
    {
     "name": "stdout",
     "output_type": "stream",
     "text": [
      "chris hadfield\n"
     ]
    }
   ],
   "source": [
    "print(a.casefold ())"
   ]
  },
  {
   "cell_type": "code",
   "execution_count": 25,
   "id": "e6aeacbf",
   "metadata": {},
   "outputs": [
    {
     "name": "stdout",
     "output_type": "stream",
     "text": [
      "Chris Hadfield\n"
     ]
    }
   ],
   "source": [
    "print(a.title())"
   ]
  },
  {
   "cell_type": "code",
   "execution_count": 11,
   "id": "159e69cf",
   "metadata": {},
   "outputs": [],
   "source": [
    "b = \"Space Legend\""
   ]
  },
  {
   "cell_type": "code",
   "execution_count": 12,
   "id": "9250bb67",
   "metadata": {},
   "outputs": [
    {
     "name": "stdout",
     "output_type": "stream",
     "text": [
      "1\n"
     ]
    }
   ],
   "source": [
    "print(b.count(\"Space Legend\"))"
   ]
  },
  {
   "cell_type": "code",
   "execution_count": 28,
   "id": "44c41820",
   "metadata": {},
   "outputs": [
    {
     "name": "stdout",
     "output_type": "stream",
     "text": [
      "Space Legend\n"
     ]
    }
   ],
   "source": [
    "print(b.center(5))"
   ]
  },
  {
   "cell_type": "code",
   "execution_count": 14,
   "id": "c57bf653",
   "metadata": {},
   "outputs": [
    {
     "name": "stdout",
     "output_type": "stream",
     "text": [
      "b'Space Legend'\n"
     ]
    }
   ],
   "source": [
    "print(b.encode())"
   ]
  },
  {
   "cell_type": "code",
   "execution_count": 15,
   "id": "433bcfba",
   "metadata": {},
   "outputs": [
    {
     "name": "stdout",
     "output_type": "stream",
     "text": [
      "Space Legend\n"
     ]
    }
   ],
   "source": [
    "print(b.format())"
   ]
  },
  {
   "cell_type": "code",
   "execution_count": 20,
   "id": "dc6f012b",
   "metadata": {},
   "outputs": [
    {
     "name": "stdout",
     "output_type": "stream",
     "text": [
      "0\n"
     ]
    }
   ],
   "source": [
    "print(b.index(\"Space Legend\"))"
   ]
  },
  {
   "cell_type": "code",
   "execution_count": 21,
   "id": "7e275f31",
   "metadata": {},
   "outputs": [
    {
     "name": "stdout",
     "output_type": "stream",
     "text": [
      "True\n"
     ]
    }
   ],
   "source": [
    "print(b.isascii())"
   ]
  },
  {
   "cell_type": "code",
   "execution_count": 22,
   "id": "1c63830f",
   "metadata": {},
   "outputs": [
    {
     "name": "stdout",
     "output_type": "stream",
     "text": [
      "True\n"
     ]
    }
   ],
   "source": [
    "print(b.istitle())"
   ]
  },
  {
   "cell_type": "code",
   "execution_count": 23,
   "id": "75ec4092",
   "metadata": {},
   "outputs": [
    {
     "name": "stdout",
     "output_type": "stream",
     "text": [
      "False\n"
     ]
    }
   ],
   "source": [
    "print(b.islower())"
   ]
  },
  {
   "cell_type": "code",
   "execution_count": 24,
   "id": "1e06c027",
   "metadata": {},
   "outputs": [
    {
     "name": "stdout",
     "output_type": "stream",
     "text": [
      "False\n"
     ]
    }
   ],
   "source": [
    "print(b.isupper())"
   ]
  },
  {
   "cell_type": "code",
   "execution_count": 112,
   "id": "b29d4af5",
   "metadata": {},
   "outputs": [
    {
     "ename": "AttributeError",
     "evalue": "'int' object has no attribute 'join'",
     "output_type": "error",
     "traceback": [
      "\u001b[1;31m---------------------------------------------------------------------------\u001b[0m",
      "\u001b[1;31mAttributeError\u001b[0m                            Traceback (most recent call last)",
      "Cell \u001b[1;32mIn[112], line 1\u001b[0m\n\u001b[1;32m----> 1\u001b[0m \u001b[38;5;28mprint\u001b[39m(\u001b[43mb\u001b[49m\u001b[38;5;241;43m.\u001b[39;49m\u001b[43mjoin\u001b[49m())\n",
      "\u001b[1;31mAttributeError\u001b[0m: 'int' object has no attribute 'join'"
     ]
    }
   ],
   "source": [
    "print(b.join())\n"
   ]
  },
  {
   "cell_type": "code",
   "execution_count": 26,
   "id": "6ace84f3",
   "metadata": {},
   "outputs": [
    {
     "name": "stdout",
     "output_type": "stream",
     "text": [
      "space legend\n"
     ]
    }
   ],
   "source": [
    "print(b.lower())"
   ]
  },
  {
   "cell_type": "code",
   "execution_count": 30,
   "id": "93d1d931",
   "metadata": {},
   "outputs": [
    {
     "name": "stdout",
     "output_type": "stream",
     "text": [
      "Space Legend\n"
     ]
    }
   ],
   "source": [
    "print(b.lstrip())"
   ]
  },
  {
   "cell_type": "code",
   "execution_count": 27,
   "id": "bd22050c",
   "metadata": {},
   "outputs": [],
   "source": [
    "c = \"!!!!CanadianSpaceAgency !!!!! CandianSpaceAgency\""
   ]
  },
  {
   "cell_type": "code",
   "execution_count": 28,
   "id": "5e5fd4ba",
   "metadata": {},
   "outputs": [
    {
     "name": "stdout",
     "output_type": "stream",
     "text": [
      "!!!!canadianspaceagency !!!!! candianspaceagency\n"
     ]
    }
   ],
   "source": [
    "print(c.lower())"
   ]
  },
  {
   "cell_type": "code",
   "execution_count": 29,
   "id": "77010aa0",
   "metadata": {},
   "outputs": [
    {
     "name": "stdout",
     "output_type": "stream",
     "text": [
      "!!!!CANADIANSPACEAGENCY !!!!! CANDIANSPACEAGENCY\n"
     ]
    }
   ],
   "source": [
    "print(c.upper())"
   ]
  },
  {
   "cell_type": "code",
   "execution_count": 30,
   "id": "9d4add63",
   "metadata": {},
   "outputs": [
    {
     "name": "stdout",
     "output_type": "stream",
     "text": [
      "!!!!canadianspaceagency !!!!! candianspaceagency\n"
     ]
    }
   ],
   "source": [
    "print(c.capitalize())"
   ]
  },
  {
   "cell_type": "code",
   "execution_count": 46,
   "id": "fe1ec90f",
   "metadata": {},
   "outputs": [
    {
     "name": "stdout",
     "output_type": "stream",
     "text": [
      "!!!!CanadianSpaceAgency !!!!! CandianSpaceAgency\n"
     ]
    }
   ],
   "source": [
    "print(c.rstrip(\"!\"))"
   ]
  },
  {
   "cell_type": "code",
   "execution_count": 32,
   "id": "f67f7fab",
   "metadata": {},
   "outputs": [
    {
     "name": "stdout",
     "output_type": "stream",
     "text": [
      "!!!!Nasa !!!!! CandianSpaceAgency\n"
     ]
    }
   ],
   "source": [
    "print(c.replace(\"CanadianSpaceAgency\",\"Nasa\"))"
   ]
  },
  {
   "cell_type": "code",
   "execution_count": 34,
   "id": "2d9c64db",
   "metadata": {},
   "outputs": [
    {
     "name": "stdout",
     "output_type": "stream",
     "text": [
      "['!!!!CanadianSpaceAgency', '!!!!!', 'CandianSpaceAgency']\n"
     ]
    }
   ],
   "source": [
    "print(c.split(\" \"))"
   ]
  },
  {
   "cell_type": "code",
   "execution_count": 35,
   "id": "e2968844",
   "metadata": {},
   "outputs": [],
   "source": [
    "blogHeading = \"introduction to js\""
   ]
  },
  {
   "cell_type": "code",
   "execution_count": 36,
   "id": "7becd63e",
   "metadata": {},
   "outputs": [
    {
     "name": "stdout",
     "output_type": "stream",
     "text": [
      "Introduction to js\n"
     ]
    }
   ],
   "source": [
    "print(blogHeading.capitalize())"
   ]
  },
  {
   "cell_type": "code",
   "execution_count": 38,
   "id": "4d13120b",
   "metadata": {},
   "outputs": [],
   "source": [
    "str1 = \"welcome to the console!!\""
   ]
  },
  {
   "cell_type": "code",
   "execution_count": 39,
   "id": "8c99dd50",
   "metadata": {},
   "outputs": [
    {
     "name": "stdout",
     "output_type": "stream",
     "text": [
      "24\n"
     ]
    }
   ],
   "source": [
    "print(len(str1))"
   ]
  },
  {
   "cell_type": "code",
   "execution_count": 40,
   "id": "c402ebbd",
   "metadata": {},
   "outputs": [
    {
     "name": "stdout",
     "output_type": "stream",
     "text": [
      "             welcome to the console!!             \n"
     ]
    }
   ],
   "source": [
    "print((str1.center(50)))"
   ]
  },
  {
   "cell_type": "code",
   "execution_count": 41,
   "id": "03bc2031",
   "metadata": {},
   "outputs": [
    {
     "name": "stdout",
     "output_type": "stream",
     "text": [
      "50\n"
     ]
    }
   ],
   "source": [
    "print(len(str1.center(50)))"
   ]
  },
  {
   "cell_type": "code",
   "execution_count": 45,
   "id": "eb52379d",
   "metadata": {},
   "outputs": [
    {
     "name": "stdout",
     "output_type": "stream",
     "text": [
      "7\n"
     ]
    }
   ],
   "source": [
    "print(c.count(\"a\"))"
   ]
  },
  {
   "cell_type": "code",
   "execution_count": 47,
   "id": "52cd9da0",
   "metadata": {},
   "outputs": [
    {
     "name": "stdout",
     "output_type": "stream",
     "text": [
      "True\n"
     ]
    }
   ],
   "source": [
    "print(str1.endswith(\"!!\"))"
   ]
  },
  {
   "cell_type": "code",
   "execution_count": 57,
   "id": "ee770a68",
   "metadata": {},
   "outputs": [
    {
     "name": "stdout",
     "output_type": "stream",
     "text": [
      "True\n"
     ]
    }
   ],
   "source": [
    "print(str1.endswith(\"to\",4,10))"
   ]
  },
  {
   "cell_type": "code",
   "execution_count": 58,
   "id": "5f31e452",
   "metadata": {},
   "outputs": [],
   "source": [
    "str2 = \"He's name is Dan.He is an honest man.\""
   ]
  },
  {
   "cell_type": "code",
   "execution_count": 59,
   "id": "1ceeb085",
   "metadata": {},
   "outputs": [
    {
     "name": "stdout",
     "output_type": "stream",
     "text": [
      "10\n"
     ]
    }
   ],
   "source": [
    "print(str2.find(\"is\"))"
   ]
  },
  {
   "cell_type": "code",
   "execution_count": 60,
   "id": "95835227",
   "metadata": {},
   "outputs": [
    {
     "name": "stdout",
     "output_type": "stream",
     "text": [
      "-1\n"
     ]
    }
   ],
   "source": [
    "print(str2.find(\"ishh\"))"
   ]
  },
  {
   "cell_type": "code",
   "execution_count": 61,
   "id": "54c02316",
   "metadata": {},
   "outputs": [
    {
     "name": "stdout",
     "output_type": "stream",
     "text": [
      "False\n"
     ]
    }
   ],
   "source": [
    "print(str2.isalnum())"
   ]
  },
  {
   "cell_type": "code",
   "execution_count": 64,
   "id": "f69e2b77",
   "metadata": {},
   "outputs": [],
   "source": [
    "str3 = \"IWantToBeAnAstrounaut\""
   ]
  },
  {
   "cell_type": "code",
   "execution_count": 65,
   "id": "ad9fceda",
   "metadata": {},
   "outputs": [
    {
     "name": "stdout",
     "output_type": "stream",
     "text": [
      "True\n"
     ]
    }
   ],
   "source": [
    "print(str3.isalnum())"
   ]
  },
  {
   "cell_type": "code",
   "execution_count": 67,
   "id": "769c62d9",
   "metadata": {},
   "outputs": [
    {
     "name": "stdout",
     "output_type": "stream",
     "text": [
      "True\n"
     ]
    }
   ],
   "source": [
    "print(str3.isalpha())"
   ]
  },
  {
   "cell_type": "code",
   "execution_count": 68,
   "id": "939b2f2e",
   "metadata": {},
   "outputs": [
    {
     "name": "stdout",
     "output_type": "stream",
     "text": [
      "True\n"
     ]
    }
   ],
   "source": [
    "print(str3.isprintable())"
   ]
  },
  {
   "cell_type": "code",
   "execution_count": 75,
   "id": "a105c709",
   "metadata": {},
   "outputs": [],
   "source": [
    "str4 = \"We wish you a Merry Christmas Day\\nRight \""
   ]
  },
  {
   "cell_type": "code",
   "execution_count": 76,
   "id": "645b0f59",
   "metadata": {},
   "outputs": [
    {
     "name": "stdout",
     "output_type": "stream",
     "text": [
      "We wish you a Merry Christmas Day\n",
      "Right \n"
     ]
    }
   ],
   "source": [
    "print(str4)"
   ]
  },
  {
   "cell_type": "code",
   "execution_count": 81,
   "id": "5279bd0c",
   "metadata": {},
   "outputs": [],
   "source": [
    "str5 = \"We wish you a Merry Christmas Day\\n\""
   ]
  },
  {
   "cell_type": "code",
   "execution_count": 82,
   "id": "4a3f704d",
   "metadata": {},
   "outputs": [
    {
     "name": "stdout",
     "output_type": "stream",
     "text": [
      "False\n"
     ]
    }
   ],
   "source": [
    "print(str5.isprintable())"
   ]
  },
  {
   "cell_type": "code",
   "execution_count": 83,
   "id": "531eb37c",
   "metadata": {},
   "outputs": [
    {
     "name": "stdout",
     "output_type": "stream",
     "text": [
      "We wish you a Merry Christmas Day\n",
      "\n"
     ]
    }
   ],
   "source": [
    "print(str5)"
   ]
  },
  {
   "cell_type": "code",
   "execution_count": 84,
   "id": "7c6c6c5a",
   "metadata": {},
   "outputs": [],
   "source": [
    "str6 = \"World Health Organization\""
   ]
  },
  {
   "cell_type": "code",
   "execution_count": 85,
   "id": "72f9d2bc",
   "metadata": {},
   "outputs": [
    {
     "name": "stdout",
     "output_type": "stream",
     "text": [
      "True\n"
     ]
    }
   ],
   "source": [
    "print(str6.istitle())"
   ]
  },
  {
   "cell_type": "code",
   "execution_count": 86,
   "id": "b75ebda2",
   "metadata": {},
   "outputs": [
    {
     "name": "stdout",
     "output_type": "stream",
     "text": [
      "wORLD hEALTH oRGANIZATION\n"
     ]
    }
   ],
   "source": [
    "print(str6.swapcase())"
   ]
  },
  {
   "cell_type": "code",
   "execution_count": 2,
   "id": "dc400d6c",
   "metadata": {},
   "outputs": [
    {
     "name": "stdout",
     "output_type": "stream",
     "text": [
      "Enter your age: 34\n",
      "Your age is: 34\n",
      "You can drive\n"
     ]
    }
   ],
   "source": [
    "# Day-14:If Else Conditional Statements In Python Used For Dicision Making\n",
    "a = int(input(\"Enter your age: \"))\n",
    "print(\"Your age is:\" , a)\n",
    "\n",
    "if (a>18):\n",
    "    print(\"You can drive\")\n",
    "else:\n",
    "    print(\"You cannot drive\")"
   ]
  },
  {
   "cell_type": "code",
   "execution_count": 3,
   "id": "89c4beef",
   "metadata": {},
   "outputs": [
    {
     "name": "stdout",
     "output_type": "stream",
     "text": [
      "You can drive\n"
     ]
    }
   ],
   "source": [
    "# Conditional operators:\n",
    "# >,<,<=,>=,==,!=(not equal to)\n",
    "# print(a>18)\n",
    "# print(a<=18)\n",
    "# print(a>=18)\n",
    "# print(a==18)\n",
    "# print(a!=18)\n",
    "\n",
    "if (a>18):\n",
    "    print(\"You can drive\")\n",
    "else:\n",
    "    print(\"You cannot drive\")"
   ]
  },
  {
   "cell_type": "code",
   "execution_count": 6,
   "id": "401866cb",
   "metadata": {},
   "outputs": [
    {
     "name": "stdout",
     "output_type": "stream",
     "text": [
      "Enter your age: 23\n",
      "Your age is: 23\n",
      "You can drive\n"
     ]
    }
   ],
   "source": [
    "b = int(input(\"Enter your age: \"))\n",
    "print(\"Your age is:\",b)\n",
    "if (b<=18):\n",
    "    print(\"You cannot drive\")\n",
    "else:\n",
    "    print(\"You can drive\")\n"
   ]
  },
  {
   "cell_type": "code",
   "execution_count": 3,
   "id": "753f2013",
   "metadata": {},
   "outputs": [
    {
     "name": "stdout",
     "output_type": "stream",
     "text": [
      "Enter your age: 22\n",
      "Your age is: 22\n",
      "You'll definetely drive\n"
     ]
    }
   ],
   "source": [
    "c = int(input(\"Enter your age: \"))\n",
    "print(\"Your age is:\",c)\n",
    "if (c<=18):\n",
    "    print(\"You cannot drive\")\n",
    "\n",
    "elif(c>=18):\n",
    "    print(\"You'll definetely drive\")\n",
    "    "
   ]
  },
  {
   "cell_type": "code",
   "execution_count": null,
   "id": "f3d83979",
   "metadata": {},
   "outputs": [],
   "source": []
  },
  {
   "cell_type": "code",
   "execution_count": 1,
   "id": "18ed4d25",
   "metadata": {},
   "outputs": [
    {
     "name": "stdout",
     "output_type": "stream",
     "text": [
      "Alexa,do not add Apples to the cart.\n"
     ]
    }
   ],
   "source": [
    "applePrice = 190\n",
    "budget = 200\n",
    " \n",
    "if (budget - applePrice > 50):\n",
    "    print(\"Alexa,add 1kg apples to the cart.\")\n",
    "elif (budget - applePrice > 70):\n",
    "    print(\"Its ok \")\n",
    "else:\n",
    "    print(\"Alexa,do not add Apples to the cart.\")"
   ]
  },
  {
   "cell_type": "code",
   "execution_count": 9,
   "id": "08f17416",
   "metadata": {},
   "outputs": [
    {
     "name": "stdout",
     "output_type": "stream",
     "text": [
      "Alexa,do not add Apples to the cart.\n"
     ]
    }
   ],
   "source": [
    "applePrice = 210\n",
    "budget = 200\n",
    " \n",
    "if (budget - applePrice > 50):\n",
    "    print(\"Alexa,add 1kg apples to the cart.\")\n",
    "elif (budget - applePrice > 70):\n",
    "    print(\"Its ok \")\n",
    "else:\n",
    "    print(\"Alexa,do not add Apples to the cart.\")"
   ]
  },
  {
   "cell_type": "code",
   "execution_count": 10,
   "id": "7b681a6a",
   "metadata": {},
   "outputs": [
    {
     "name": "stdout",
     "output_type": "stream",
     "text": [
      "Alexa,add 1kg apples to the cart.\n"
     ]
    }
   ],
   "source": [
    "applePrice = 110\n",
    "budget = 200\n",
    " \n",
    "if (budget - applePrice > 50):\n",
    "    print(\"Alexa,add 1kg apples to the cart.\")\n",
    "elif (budget - applePrice > 70):\n",
    "    print(\"Its ok you can buy\")\n",
    "else:\n",
    "    print(\"Alexa,do not add Apples to the cart.\")"
   ]
  },
  {
   "cell_type": "code",
   "execution_count": 11,
   "id": "1b0a3731",
   "metadata": {},
   "outputs": [
    {
     "name": "stdout",
     "output_type": "stream",
     "text": [
      "Enter the value of num:6\n",
      "Number is Positive.\n"
     ]
    }
   ],
   "source": [
    "num = int(input(\"Enter the value of num:\"))\n",
    "if (num < 0):\n",
    "    print(\"The number is negative \")\n",
    "elif (num == 0):\n",
    "    print(\"The number is Zero \")\n",
    "else:\n",
    "    print(\"Number is Positive.\")\n",
    "    "
   ]
  },
  {
   "cell_type": "code",
   "execution_count": 24,
   "id": "1493624b",
   "metadata": {},
   "outputs": [
    {
     "name": "stdout",
     "output_type": "stream",
     "text": [
      "Enter the value of num:67\n",
      "Number is Positive.\n",
      "I'm happy now .\n"
     ]
    }
   ],
   "source": [
    "num = int(input(\"Enter the value of num:\"))\n",
    "if (num < 0):\n",
    "    print(\"The number is negative \")\n",
    "elif (num == 0):\n",
    "    print(\"The number is Zero \")\n",
    "elif (num == 999):\n",
    "    print(\"The number is Special \")\n",
    "else:\n",
    "    print(\"Number is Positive.\")\n",
    "    print(\"I'm happy now .\")\n",
    "    "
   ]
  },
  {
   "cell_type": "code",
   "execution_count": 21,
   "id": "14cc2c74",
   "metadata": {},
   "outputs": [
    {
     "name": "stdout",
     "output_type": "stream",
     "text": [
      "Number is in between 11-20\n"
     ]
    }
   ],
   "source": [
    "num = 18\n",
    "if (num < 0):\n",
    "    print(\"The number is negative \")\n",
    "elif (num > 0):\n",
    "    if (num <= 10):\n",
    "        print(\"Number is in between 1-10\")\n",
    "    elif (num > 10 and num <= 20):\n",
    "        print(\"Number is in between 11-20\")\n",
    "    else:\n",
    "        print(\"Number is greater than 20 \")\n",
    "else:\n",
    "    print(\"Number is Zero\")"
   ]
  },
  {
   "cell_type": "code",
   "execution_count": 35,
   "id": "45a9894a",
   "metadata": {},
   "outputs": [],
   "source": [
    "# Day-15:If Else Statments Exercise: Write the Programme that \n",
    "# tells about Good Morning Sir,Good Afternoon Sir and Good Evening Sir \n",
    "# According to the Time \n",
    "\n",
    "\n",
    "\n",
    "\n"
   ]
  },
  {
   "cell_type": "code",
   "execution_count": 37,
   "id": "d72ca2ab",
   "metadata": {},
   "outputs": [
    {
     "name": "stdout",
     "output_type": "stream",
     "text": [
      "13:24:20\n",
      "Good Afternoon!,Sir\n"
     ]
    }
   ],
   "source": [
    "import time\n",
    "\n",
    "timestamp= time.strftime(\"%H:%M:%S\")\n",
    "print(timestamp)\n",
    "\n",
    "a=int(time.strftime(\"%H\"))\n",
    "\n",
    "if(a>4 and a<12):\n",
    "    print(\"Good Morning! Sir\")\n",
    "elif(a>=12 and a<17):\n",
    "    print(\"Good Afternoon!,Sir\")\n",
    "elif(a>=17 and a<22):\n",
    "    print(\"Good morning! Sir\")\n",
    "else:\n",
    "    print(\"Good Night! Sir\")    "
   ]
  },
  {
   "cell_type": "code",
   "execution_count": 39,
   "id": "137e8058",
   "metadata": {},
   "outputs": [
    {
     "name": "stdout",
     "output_type": "stream",
     "text": [
      "Good Afternoon sir\n"
     ]
    }
   ],
   "source": [
    "# strf is a function which gives the 'Hr' or 'Min' hand\n",
    "import time\n",
    "\n",
    "hour = int(time.strftime('%H'))\n",
    "minute = int(time.strftime('%M'))\n",
    "second = int(time.strftime('%S'))\n",
    "\n",
    "if (hour >= 0 and hour <= 11):\n",
    "    print('Good Morning sir')\n",
    "elif (hour >= 12 and hour <= 16):\n",
    "    print('Good Afternoon sir')\n",
    "elif (hour >= 17 and hour <= 20):\n",
    "    print('Good Evening sir')\n",
    "else:\n",
    "    print('Good night sir')"
   ]
  },
  {
   "cell_type": "code",
   "execution_count": 3,
   "id": "4f926708",
   "metadata": {},
   "outputs": [
    {
     "ename": "ValueError",
     "evalue": "Invalid format string",
     "output_type": "error",
     "traceback": [
      "\u001b[1;31m---------------------------------------------------------------------------\u001b[0m",
      "\u001b[1;31mValueError\u001b[0m                                Traceback (most recent call last)",
      "Cell \u001b[1;32mIn[3], line 3\u001b[0m\n\u001b[0;32m      1\u001b[0m \u001b[38;5;66;03m# strf is a function which gives the 'Hr' or 'Min' hand\u001b[39;00m\n\u001b[0;32m      2\u001b[0m \u001b[38;5;28;01mimport\u001b[39;00m \u001b[38;5;21;01mtime\u001b[39;00m\n\u001b[1;32m----> 3\u001b[0m timestamp \u001b[38;5;241m=\u001b[39m \u001b[38;5;28mint\u001b[39m(\u001b[43mtime\u001b[49m\u001b[38;5;241;43m.\u001b[39;49m\u001b[43mstrftime\u001b[49m\u001b[43m \u001b[49m\u001b[43m(\u001b[49m\u001b[38;5;124;43m'\u001b[39;49m\u001b[38;5;124;43m%\u001b[39;49m\u001b[38;5;124;43mH:\u001b[39;49m\u001b[38;5;124;43m%\u001b[39;49m\u001b[38;5;124;43mM:\u001b[39;49m\u001b[38;5;124;43m%\u001b[39;49m\u001b[38;5;124;43m S\u001b[39;49m\u001b[38;5;124;43m'\u001b[39;49m\u001b[43m)\u001b[49m)\n\u001b[0;32m      4\u001b[0m \u001b[38;5;28mprint\u001b[39m(timestamp)\n\u001b[0;32m      5\u001b[0m timestamp \u001b[38;5;241m=\u001b[39m \u001b[38;5;28mint\u001b[39m(time\u001b[38;5;241m.\u001b[39mstrftime(\u001b[38;5;124m'\u001b[39m\u001b[38;5;124m%\u001b[39m\u001b[38;5;124mH\u001b[39m\u001b[38;5;124m'\u001b[39m))\n",
      "\u001b[1;31mValueError\u001b[0m: Invalid format string"
     ]
    }
   ],
   "source": [
    "# strf is a function which gives the 'Hr' or 'Min' hand\n",
    "import time\n",
    "timestamp = int(time.strftime ('%H:%M:% S'))\n",
    "print(timestamp)\n",
    "timestamp = int(time.strftime('%H'))\n",
    "print(timestamp)\n",
    "timestamp = int(time.strftime('%M'))\n",
    "print(timestamp)\n",
    "timestamp = int(time.strftime('%S'))\n",
    "print(timestamp)\n"
   ]
  },
  {
   "cell_type": "code",
   "execution_count": 22,
   "id": "a78d2cbe",
   "metadata": {},
   "outputs": [
    {
     "ename": "IndentationError",
     "evalue": "expected an indented block after 'match' statement on line 5 (3447171311.py, line 7)",
     "output_type": "error",
     "traceback": [
      "\u001b[1;36m  Cell \u001b[1;32mIn[22], line 7\u001b[1;36m\u001b[0m\n\u001b[1;33m    case 0:\u001b[0m\n\u001b[1;37m    ^\u001b[0m\n\u001b[1;31mIndentationError\u001b[0m\u001b[1;31m:\u001b[0m expected an indented block after 'match' statement on line 5\n"
     ]
    }
   ],
   "source": [
    "# Day-16:\"Match Case Statements\" in Python: \n",
    "\n",
    "x = int(input(\"Enter the value of x:\"))\n",
    "# x is the variable to match \n",
    "match x:\n",
    "#     if x is 0 \n",
    "case 0:\n",
    "    print(\"x is Zero \")\n",
    "#     Case with if-condition \n",
    "case 4:\n",
    "    print(\"case is 4\")\n",
    "#     Empty Case with if-condition \n",
    "case_ if x!=90:\n",
    "    print(\"x is not 90 \")\n",
    "case_ if x!=80:\n",
    "    print(x, \"is not 80\")\n",
    "case_:\n",
    "    print(x)"
   ]
  },
  {
   "cell_type": "code",
   "execution_count": 10,
   "id": "90227b6f",
   "metadata": {},
   "outputs": [
    {
     "name": "stdout",
     "output_type": "stream",
     "text": [
      "A\n",
      "n\n",
      "i\n",
      "k\n",
      "h\n",
      "e\n",
      "t\n",
      "h\n"
     ]
    }
   ],
   "source": [
    "# Day-17:\"For Loops\" in Python:\n",
    "name = 'Anikheth'\n",
    "for i in name:\n",
    "    print(i)\n",
    "    if (i == \"b\"):\n",
    "        print(\"This is something special!\")"
   ]
  },
  {
   "cell_type": "code",
   "execution_count": 20,
   "id": "5748e3ce",
   "metadata": {},
   "outputs": [],
   "source": [
    "# name = 'Srujan'\n",
    "# for S in name:\n",
    "#     print(S)      "
   ]
  },
  {
   "cell_type": "code",
   "execution_count": 21,
   "id": "a659321b",
   "metadata": {},
   "outputs": [
    {
     "name": "stdout",
     "output_type": "stream",
     "text": [
      "Red\n",
      "Green\n",
      "Blue\n",
      "Yellow\n"
     ]
    }
   ],
   "source": [
    "colors = [\"Red\",\"Green\",\"Blue\",\"Yellow\"]\n",
    "for color in colors:\n",
    "    print(color)"
   ]
  },
  {
   "cell_type": "code",
   "execution_count": 25,
   "id": "fae6b3d2",
   "metadata": {},
   "outputs": [
    {
     "name": "stdout",
     "output_type": "stream",
     "text": [
      "Red\n",
      "Green\n",
      "Blue\n",
      "Yellow\n",
      "Y\n",
      "e\n",
      "l\n",
      "l\n",
      "o\n",
      "w\n"
     ]
    }
   ],
   "source": [
    "colors = [\"Red\",\"Green\",\"Blue\",\"Yellow\"]\n",
    "for color in colors:\n",
    "    print(color)\n",
    "for i in color:\n",
    "    print(i)"
   ]
  },
  {
   "cell_type": "code",
   "execution_count": 26,
   "id": "0adb9fad",
   "metadata": {},
   "outputs": [
    {
     "name": "stdout",
     "output_type": "stream",
     "text": [
      "0\n",
      "1\n",
      "2\n",
      "3\n",
      "4\n"
     ]
    }
   ],
   "source": [
    "# Range Functions in Python:\n",
    "for k in range(5):\n",
    "    print(k)"
   ]
  },
  {
   "cell_type": "code",
   "execution_count": 27,
   "id": "a5e9f692",
   "metadata": {},
   "outputs": [
    {
     "name": "stdout",
     "output_type": "stream",
     "text": [
      "1\n",
      "2\n",
      "3\n",
      "4\n",
      "5\n"
     ]
    }
   ],
   "source": [
    "for k in range(5):\n",
    "    print(k+1)"
   ]
  },
  {
   "cell_type": "code",
   "execution_count": 30,
   "id": "0d0364c2",
   "metadata": {},
   "outputs": [
    {
     "name": "stdout",
     "output_type": "stream",
     "text": [
      "1\n",
      "2\n",
      "3\n",
      "4\n",
      "5\n",
      "6\n",
      "7\n",
      "8\n"
     ]
    }
   ],
   "source": [
    "for k in range(1,9):\n",
    "    print(k)\n"
   ]
  },
  {
   "cell_type": "code",
   "execution_count": 34,
   "id": "34316844",
   "metadata": {},
   "outputs": [
    {
     "name": "stdout",
     "output_type": "stream",
     "text": [
      "1\n",
      "2\n",
      "3\n",
      "4\n",
      "5\n",
      "6\n",
      "7\n",
      "8\n",
      "9\n",
      "10\n",
      "11\n",
      "12\n",
      "13\n",
      "14\n",
      "15\n",
      "16\n",
      "17\n",
      "18\n",
      "19\n"
     ]
    }
   ],
   "source": [
    "for k in range(1,20):\n",
    "    print(k)"
   ]
  },
  {
   "cell_type": "code",
   "execution_count": 36,
   "id": "3d24006c",
   "metadata": {},
   "outputs": [
    {
     "name": "stdout",
     "output_type": "stream",
     "text": [
      "1\n",
      "4\n",
      "7\n",
      "10\n"
     ]
    }
   ],
   "source": [
    "# Parameters of range function:Start,Stop and Step\n",
    "for k in range(1,12,3):\n",
    "    print(k)"
   ]
  },
  {
   "cell_type": "code",
   "execution_count": 42,
   "id": "a70d66fb",
   "metadata": {},
   "outputs": [
    {
     "name": "stdout",
     "output_type": "stream",
     "text": [
      "0\n",
      "1\n",
      "2\n",
      "Done with the 'While Loop'\n"
     ]
    }
   ],
   "source": [
    "# Day-18;\"WHILE LOOP\" in Python:\n",
    "i = 0\n",
    "while(i<3):\n",
    "    print(i)\n",
    "    i = i+1\n",
    "print(\"Done with the 'While Loop'\")"
   ]
  },
  {
   "cell_type": "code",
   "execution_count": 40,
   "id": "cf3dd717",
   "metadata": {},
   "outputs": [
    {
     "name": "stdout",
     "output_type": "stream",
     "text": [
      "0\n",
      "1\n",
      "2\n"
     ]
    }
   ],
   "source": [
    "for i in range(3):\n",
    "    print(i)"
   ]
  },
  {
   "cell_type": "code",
   "execution_count": 46,
   "id": "3384f57f",
   "metadata": {},
   "outputs": [],
   "source": []
  },
  {
   "cell_type": "code",
   "execution_count": 1,
   "id": "0b5f4a58",
   "metadata": {},
   "outputs": [
    {
     "ename": "NameError",
     "evalue": "name 'i' is not defined",
     "output_type": "error",
     "traceback": [
      "\u001b[1;31m---------------------------------------------------------------------------\u001b[0m",
      "\u001b[1;31mNameError\u001b[0m                                 Traceback (most recent call last)",
      "Cell \u001b[1;32mIn[1], line 1\u001b[0m\n\u001b[1;32m----> 1\u001b[0m \u001b[38;5;28;01mwhile\u001b[39;00m(\u001b[43mi\u001b[49m\u001b[38;5;241m<\u001b[39m\u001b[38;5;241m=\u001b[39m\u001b[38;5;241m38\u001b[39m):\n\u001b[0;32m      2\u001b[0m     i \u001b[38;5;241m=\u001b[39m \u001b[38;5;28mint\u001b[39m(\u001b[38;5;28minput\u001b[39m(\u001b[38;5;124m\"\u001b[39m\u001b[38;5;124mEnter the number:\u001b[39m\u001b[38;5;124m\"\u001b[39m))\n\u001b[0;32m      3\u001b[0m     \u001b[38;5;28mprint\u001b[39m(i)\n",
      "\u001b[1;31mNameError\u001b[0m: name 'i' is not defined"
     ]
    }
   ],
   "source": [
    "while(i<=38):\n",
    "    i = int(input(\"Enter the number:\"))\n",
    "    print(i)\n",
    "    i = i+1"
   ]
  },
  {
   "cell_type": "code",
   "execution_count": 2,
   "id": "8ce4ead3",
   "metadata": {},
   "outputs": [
    {
     "name": "stdout",
     "output_type": "stream",
     "text": [
      "5\n",
      "4\n",
      "3\n",
      "2\n",
      "1\n",
      "while loop is completed!\n"
     ]
    }
   ],
   "source": [
    "count = 5\n",
    "while (count > 0):\n",
    "    print(count)\n",
    "    count = count-1\n",
    "else:\n",
    "    print(\"while loop is completed!\")"
   ]
  },
  {
   "cell_type": "code",
   "execution_count": 6,
   "id": "e9607d01",
   "metadata": {},
   "outputs": [],
   "source": [
    "count = -5\n",
    "while (count > 0):\n",
    "    print(count)\n",
    "    count = count -1"
   ]
  },
  {
   "cell_type": "code",
   "execution_count": 1,
   "id": "2f0f698a",
   "metadata": {},
   "outputs": [
    {
     "ename": "SyntaxError",
     "evalue": "invalid syntax (2922707063.py, line 1)",
     "output_type": "error",
     "traceback": [
      "\u001b[1;36m  Cell \u001b[1;32mIn[1], line 1\u001b[1;36m\u001b[0m\n\u001b[1;33m    do {\u001b[0m\n\u001b[1;37m       ^\u001b[0m\n\u001b[1;31mSyntaxError\u001b[0m\u001b[1;31m:\u001b[0m invalid syntax\n"
     ]
    }
   ],
   "source": [
    "do {\n",
    "#     loop body;\n",
    "}while(condition);\n"
   ]
  },
  {
   "cell_type": "code",
   "execution_count": 21,
   "id": "c47cab15",
   "metadata": {},
   "outputs": [
    {
     "name": "stdout",
     "output_type": "stream",
     "text": [
      "5 X 0 = 5\n",
      "5 X 1 = 10\n",
      "5 X 2 = 15\n",
      "5 X 3 = 20\n",
      "5 X 4 = 25\n",
      "5 X 5 = 30\n",
      "5 X 6 = 35\n",
      "5 X 7 = 40\n",
      "5 X 8 = 45\n",
      "5 X 9 = 50\n",
      "Get out from the Loop\n"
     ]
    }
   ],
   "source": [
    "# Day-19:Loop(Break and Continue) in Python:\n",
    "for i in range(12):\n",
    "    if (i == 10):\n",
    "        break \n",
    "    print(\"5 X\", i, \"=\", 5 * (i+1))\n",
    "        \n",
    "print(\"Get out from the Loop\")\n",
    "# Break means get out from the Loop\n",
    "# Continue means get out from the iteration "
   ]
  },
  {
   "cell_type": "code",
   "execution_count": 26,
   "id": "a1bdf602",
   "metadata": {},
   "outputs": [
    {
     "name": "stdout",
     "output_type": "stream",
     "text": [
      "5 X 0 = 0\n",
      "5 X 1 = 5\n",
      "5 X 2 = 10\n",
      "5 X 3 = 15\n",
      "5 X 4 = 20\n",
      "5 X 5 = 25\n",
      "5 X 6 = 30\n",
      "5 X 7 = 35\n",
      "5 X 8 = 40\n",
      "5 X 9 = 45\n",
      "Skip the iteration\n",
      "5 X 11 = 55\n"
     ]
    }
   ],
   "source": [
    "for i in range(12):\n",
    "    if ( i == 10):\n",
    "        print(\"Skip the iteration\")\n",
    "        continue \n",
    "    print(\"5 X\", i, \"=\" , 5*i)"
   ]
  },
  {
   "cell_type": "code",
   "execution_count": 31,
   "id": "c566cc22",
   "metadata": {},
   "outputs": [
    {
     "name": "stdout",
     "output_type": "stream",
     "text": [
      "5 X 0 = 5\n",
      "5 X 1 = 10\n",
      "5 X 2 = 15\n",
      "5 X 3 = 20\n",
      "5 X 4 = 25\n",
      "5 X 5 = 30\n",
      "5 X 6 = 35\n",
      "5 X 7 = 40\n",
      "5 X 8 = 45\n",
      "5 X 9 = 50\n",
      "5 X 11 = 60\n"
     ]
    }
   ],
   "source": [
    "for i in range(12):\n",
    "    if (i == 10):\n",
    "        continue \n",
    "    print(\"5 X\", i, \"=\", 5 * (i+1))\n",
    "        "
   ]
  },
  {
   "cell_type": "code",
   "execution_count": 29,
   "id": "5b351b5d",
   "metadata": {},
   "outputs": [
    {
     "name": "stdout",
     "output_type": "stream",
     "text": [
      "0\n",
      "1\n",
      "2\n",
      "3\n",
      "4\n",
      "5\n",
      "6\n",
      "7\n",
      "8\n",
      "9\n",
      "10\n",
      "11\n",
      "12\n",
      "13\n",
      "14\n",
      "15\n",
      "16\n",
      "17\n",
      "18\n",
      "19\n",
      "20\n",
      "21\n",
      "22\n",
      "23\n",
      "24\n",
      "25\n",
      "26\n",
      "27\n",
      "28\n",
      "29\n",
      "30\n",
      "31\n",
      "32\n",
      "33\n",
      "34\n",
      "35\n",
      "36\n",
      "37\n",
      "38\n",
      "39\n",
      "40\n",
      "41\n",
      "42\n",
      "43\n",
      "44\n",
      "45\n",
      "46\n",
      "47\n",
      "48\n",
      "49\n",
      "50\n",
      "51\n",
      "52\n",
      "53\n",
      "54\n",
      "55\n",
      "56\n",
      "57\n",
      "58\n",
      "59\n",
      "60\n",
      "61\n",
      "62\n",
      "63\n",
      "64\n",
      "65\n",
      "66\n",
      "67\n",
      "68\n",
      "69\n",
      "70\n",
      "71\n",
      "72\n",
      "73\n",
      "74\n",
      "75\n",
      "76\n",
      "77\n",
      "78\n",
      "79\n",
      "80\n",
      "81\n",
      "82\n",
      "83\n",
      "84\n",
      "85\n",
      "86\n",
      "87\n",
      "88\n",
      "89\n",
      "90\n",
      "91\n",
      "92\n",
      "93\n",
      "94\n",
      "95\n",
      "96\n",
      "97\n",
      "98\n",
      "99\n"
     ]
    }
   ],
   "source": [
    "# \"Continue statement\" execute upto the \"Skip the iteration\"in line 14 and \n",
    "# it will not execute after the the first print statement \n",
    "i = 0\n",
    "while True:\n",
    "    print(i)\n",
    "    i = i+1\n",
    "    if (i%100 == 0):\n",
    "        break\n",
    "# This code indicates that emulating the do while loop \n",
    "# if i is divisinle by 100 then that equal to 0 and break the code after that "
   ]
  },
  {
   "cell_type": "code",
   "execution_count": 3,
   "id": "1b5a47a6",
   "metadata": {},
   "outputs": [
    {
     "name": "stdout",
     "output_type": "stream",
     "text": [
      "4.235294117647059\n"
     ]
    }
   ],
   "source": [
    "# DAY-20:Functions in Python\n",
    "# Functions are the Block of code that performs a specific task,these are used to separate the code\n",
    "a = 9\n",
    "b = 8\n",
    "gmean = (a*b)/(a+b)\n",
    "print(gmean)"
   ]
  },
  {
   "cell_type": "code",
   "execution_count": 5,
   "id": "f6a0757a",
   "metadata": {},
   "outputs": [
    {
     "name": "stdout",
     "output_type": "stream",
     "text": [
      "3.9375\n"
     ]
    }
   ],
   "source": [
    "c = 7\n",
    "d = 9\n",
    "gmean = (c*d)/(c+d)\n",
    "print(gmean)"
   ]
  },
  {
   "cell_type": "code",
   "execution_count": 10,
   "id": "d0ed3e68",
   "metadata": {},
   "outputs": [
    {
     "name": "stdout",
     "output_type": "stream",
     "text": [
      "3.9375\n"
     ]
    }
   ],
   "source": [
    "def calculateGmean(a,b):\n",
    "     gmean = (a*b)/(a+b)\n",
    "print(gmean)\n",
    "  \n",
    "    "
   ]
  },
  {
   "cell_type": "code",
   "execution_count": 8,
   "id": "b8e416ac",
   "metadata": {},
   "outputs": [
    {
     "name": "stdout",
     "output_type": "stream",
     "text": [
      "First number is greater\n"
     ]
    },
    {
     "ename": "NameError",
     "evalue": "name 'calculateGmean' is not defined",
     "output_type": "error",
     "traceback": [
      "\u001b[1;31m---------------------------------------------------------------------------\u001b[0m",
      "\u001b[1;31mNameError\u001b[0m                                 Traceback (most recent call last)",
      "Cell \u001b[1;32mIn[8], line 7\u001b[0m\n\u001b[0;32m      5\u001b[0m \u001b[38;5;28;01melse\u001b[39;00m:\n\u001b[0;32m      6\u001b[0m     \u001b[38;5;28mprint\u001b[39m(\u001b[38;5;124m\"\u001b[39m\u001b[38;5;124mSecond number is greater\u001b[39m\u001b[38;5;124m\"\u001b[39m)\n\u001b[1;32m----> 7\u001b[0m \u001b[43mcalculateGmean\u001b[49m(a,b)\n\u001b[0;32m      8\u001b[0m \u001b[38;5;28mprint\u001b[39m(gmean)\n",
      "\u001b[1;31mNameError\u001b[0m: name 'calculateGmean' is not defined"
     ]
    }
   ],
   "source": [
    "a = 6\n",
    "b = 5\n",
    "if(a>b):\n",
    "    print(\"First number is greater\")\n",
    "else:\n",
    "    print(\"Second number is greater\")\n",
    "calculateGmean(a,b)\n",
    "print(gmean)"
   ]
  },
  {
   "cell_type": "code",
   "execution_count": 14,
   "id": "2856035e",
   "metadata": {},
   "outputs": [],
   "source": [
    "def isGreater(a,b):\n",
    "    if(a>b):\n",
    "        print(\"First number is greater\")\n",
    "    else:\n",
    "        print(\"Second number is greater or equal\")\n",
    "        "
   ]
  },
  {
   "cell_type": "code",
   "execution_count": 15,
   "id": "ed048602",
   "metadata": {},
   "outputs": [
    {
     "data": {
      "text/plain": [
       "True"
      ]
     },
     "execution_count": 15,
     "metadata": {},
     "output_type": "execute_result"
    }
   ],
   "source": [
    "a >b"
   ]
  },
  {
   "cell_type": "code",
   "execution_count": 16,
   "id": "bd7d38b4",
   "metadata": {},
   "outputs": [
    {
     "name": "stdout",
     "output_type": "stream",
     "text": [
      "True\n"
     ]
    }
   ],
   "source": [
    "m = a>b\n",
    "print(m)"
   ]
  },
  {
   "cell_type": "code",
   "execution_count": 17,
   "id": "f30b194f",
   "metadata": {},
   "outputs": [
    {
     "name": "stdout",
     "output_type": "stream",
     "text": [
      "First number is greater\n"
     ]
    }
   ],
   "source": [
    "a = 5 \n",
    "b = 4\n",
    "isGreater(a,b)"
   ]
  },
  {
   "cell_type": "code",
   "execution_count": 19,
   "id": "d9119e4a",
   "metadata": {},
   "outputs": [
    {
     "name": "stdout",
     "output_type": "stream",
     "text": [
      "Second number is greater or equal\n"
     ]
    }
   ],
   "source": [
    "a = 8\n",
    "b = 8\n",
    "isGreater(a,b)"
   ]
  },
  {
   "cell_type": "code",
   "execution_count": 29,
   "id": "c4626a42",
   "metadata": {},
   "outputs": [],
   "source": [
    "def calculateGmean(x,y):\n",
    "     gmean = (x*y)/(x+y)\n",
    "     print(gmean)"
   ]
  },
  {
   "cell_type": "code",
   "execution_count": 30,
   "id": "24438552",
   "metadata": {},
   "outputs": [
    {
     "name": "stdout",
     "output_type": "stream",
     "text": [
      "3.9375\n"
     ]
    }
   ],
   "source": [
    "x = 7 \n",
    "y = 9\n",
    "calculateGmean(x,y)"
   ]
  },
  {
   "cell_type": "code",
   "execution_count": 32,
   "id": "a0a781f0",
   "metadata": {},
   "outputs": [
    {
     "name": "stdout",
     "output_type": "stream",
     "text": [
      "2.0\n"
     ]
    }
   ],
   "source": [
    "a = 6\n",
    "b = 3\n",
    "calculateGmean(a,b)"
   ]
  },
  {
   "cell_type": "code",
   "execution_count": 33,
   "id": "01b5895b",
   "metadata": {},
   "outputs": [
    {
     "name": "stdout",
     "output_type": "stream",
     "text": [
      "1.7142857142857142\n"
     ]
    }
   ],
   "source": [
    "p = 4\n",
    "q = 3\n",
    "calculateGmean(p,q)"
   ]
  },
  {
   "cell_type": "code",
   "execution_count": 35,
   "id": "eb035d1c",
   "metadata": {},
   "outputs": [
    {
     "name": "stdout",
     "output_type": "stream",
     "text": [
      "0.75\n"
     ]
    }
   ],
   "source": [
    "t = 3\n",
    "r = 1\n",
    "calculateGmean(t,r)"
   ]
  },
  {
   "cell_type": "code",
   "execution_count": 36,
   "id": "6fbfce9f",
   "metadata": {},
   "outputs": [
    {
     "name": "stdout",
     "output_type": "stream",
     "text": [
      "1.3333333333333333\n"
     ]
    }
   ],
   "source": [
    "o = 4\n",
    "t = 2\n",
    "calculateGmean(o,t)"
   ]
  },
  {
   "cell_type": "code",
   "execution_count": 50,
   "id": "8acf2a3c",
   "metadata": {},
   "outputs": [],
   "source": [
    "def AreaOfSquare(b,h):\n",
    "    area =  (b*h)\n",
    "    print(area)"
   ]
  },
  {
   "cell_type": "code",
   "execution_count": 51,
   "id": "77ce6910",
   "metadata": {},
   "outputs": [
    {
     "name": "stdout",
     "output_type": "stream",
     "text": [
      "36\n"
     ]
    }
   ],
   "source": [
    "b = 6\n",
    "h = 6\n",
    "\n",
    "AreaOfSquare(b,h)"
   ]
  },
  {
   "cell_type": "code",
   "execution_count": 52,
   "id": "fd7fd30e",
   "metadata": {},
   "outputs": [
    {
     "name": "stdout",
     "output_type": "stream",
     "text": [
      "24\n"
     ]
    }
   ],
   "source": [
    "r = 4\n",
    "t = 6\n",
    "AreaOfSquare(r, t)"
   ]
  },
  {
   "cell_type": "code",
   "execution_count": 81,
   "id": "7d457fb6",
   "metadata": {},
   "outputs": [],
   "source": [
    "def YourNameIs(g,h):\n",
    "    name = (\"My name is,\" + \" \" + g + \" \" + h)\n",
    "    print(name)"
   ]
  },
  {
   "cell_type": "code",
   "execution_count": 82,
   "id": "754c96e6",
   "metadata": {},
   "outputs": [],
   "source": [
    "g = \"Shreyas\"\n",
    "h = \"Chillal\""
   ]
  },
  {
   "cell_type": "code",
   "execution_count": 83,
   "id": "527d72ce",
   "metadata": {},
   "outputs": [
    {
     "name": "stdout",
     "output_type": "stream",
     "text": [
      "My name is, Shreyas Chillal\n"
     ]
    }
   ],
   "source": [
    "YourNameIs (g,h)"
   ]
  },
  {
   "cell_type": "code",
   "execution_count": 84,
   "id": "6a760cd7",
   "metadata": {},
   "outputs": [],
   "source": [
    "t = \"Sandesha\"\n",
    "r = \"S.A\""
   ]
  },
  {
   "cell_type": "code",
   "execution_count": 85,
   "id": "1b2e1547",
   "metadata": {},
   "outputs": [
    {
     "name": "stdout",
     "output_type": "stream",
     "text": [
      "My name is, Sandesha S.A\n"
     ]
    }
   ],
   "source": [
    "YourNameIs(t,r)"
   ]
  },
  {
   "cell_type": "code",
   "execution_count": 116,
   "id": "26f73ca2",
   "metadata": {},
   "outputs": [],
   "source": [
    "r = \"Sahyadri Science College,\"\n",
    "t = \"Shimoga\"\n",
    "def YouAreStudying(r,t):\n",
    "    input(\"Your Name is,\")\n",
    "    college =   ( \"I'm Studying in,\"  +\" \" + r + \" \" + t)\n",
    "    print(college)"
   ]
  },
  {
   "cell_type": "code",
   "execution_count": 117,
   "id": "9cc82af5",
   "metadata": {},
   "outputs": [
    {
     "name": "stdout",
     "output_type": "stream",
     "text": [
      "Your Name is,Shreyas\n",
      "I'm Studying in, Sahyadri Science College, Shimoga\n"
     ]
    }
   ],
   "source": [
    "YouAreStudying(r,t)"
   ]
  },
  {
   "cell_type": "code",
   "execution_count": null,
   "id": "b0ad4dec",
   "metadata": {},
   "outputs": [],
   "source": [
    "def YouAreFrom(l,y):\n",
    "    input(\"Your name is,\")\n",
    "    village = (\"I belongs to the Village,\" + \" \" + l + \" \" + y)\n",
    "    print(village)"
   ]
  },
  {
   "cell_type": "code",
   "execution_count": null,
   "id": "f0ee3011",
   "metadata": {},
   "outputs": [],
   "source": [
    "l = \"Gogopeth \"\n",
    "y = \"Shahapur-Tq , Yadgir-Dist\"\n",
    "\n"
   ]
  },
  {
   "cell_type": "code",
   "execution_count": null,
   "id": "f864c267",
   "metadata": {},
   "outputs": [],
   "source": [
    "YouAreFrom(l,y)"
   ]
  },
  {
   "cell_type": "code",
   "execution_count": null,
   "id": "b77d7127",
   "metadata": {},
   "outputs": [],
   "source": [
    "def isLesser(a,b):\n",
    "    pass\n",
    "# Pass means Leave the function and move forward i will write it afeterwards for its execution"
   ]
  },
  {
   "cell_type": "code",
   "execution_count": null,
   "id": "2e287c88",
   "metadata": {},
   "outputs": [],
   "source": [
    "# for what perpose functions are used for Here are some practical examples \n",
    "# We are Creating Functions for amazon or any other e-commerse site:\n",
    "# One function belongs to process the order\n",
    "# Second function belongs to whether user has logged in or not\n",
    "# Whether order placed delivered to the user Pincode or not"
   ]
  },
  {
   "cell_type": "code",
   "execution_count": 1,
   "id": "dd7986b9",
   "metadata": {},
   "outputs": [],
   "source": [
    "# Functions are of two types :\n",
    "# 01.Built in functions: These are built in programming language Ex:print,len,title,tuples,set,min,max,range etc\n",
    "# 02.User defined functions : User build his own function using \"def\" keyword followed by function name, followed by paranthesins\n",
    "# follwed by the colon.If we are in better IDE then Atomatically indent will be displayed\n",
    "# Rules for naming a functions are similer to that of the variables \n",
    "# Any statements other and other code within the functions should be indented "
   ]
  },
  {
   "cell_type": "code",
   "execution_count": 2,
   "id": "cd7255ca",
   "metadata": {},
   "outputs": [],
   "source": [
    "# DAY-21: Function Arguments in Python(CWH):How arguments are passed in functions? As a tuple, \n",
    "# dictionary we can pass the arguments\n",
    "# Types of Arguments we can provide in the Function:\n",
    "# 01.Default Arguments \n",
    "# 02.Keyword Arguments \n",
    "# 03.Variable Length Arguments \n",
    "# 04.Required Arguments "
   ]
  },
  {
   "cell_type": "code",
   "execution_count": 3,
   "id": "7f154ed5",
   "metadata": {},
   "outputs": [
    {
     "name": "stdout",
     "output_type": "stream",
     "text": [
      "The average is  6.0\n"
     ]
    }
   ],
   "source": [
    "# 01.\"Required Arguments\":The value must be given\n",
    "def average(a,b):\n",
    "    print(\"The average is \" , (a+b)/2)\n",
    "average(5,7)\n",
    "# In this case I have given \"Required Arguments\" for a,b"
   ]
  },
  {
   "cell_type": "code",
   "execution_count": 4,
   "id": "8e2cf170",
   "metadata": {},
   "outputs": [
    {
     "name": "stdout",
     "output_type": "stream",
     "text": [
      "The average is  2.5\n"
     ]
    }
   ],
   "source": [
    "# 02.\"Default Arguments\" given while defining the functions itself \n",
    "def average (a=2,b=3):\n",
    "    print(\"The average is \" , (a+b)/2)\n",
    "average()\n",
    "# If i gave the average inputs while execution it ignores the default Arguments \n",
    "# We can also give single argumet either \"b\" or \"a\""
   ]
  },
  {
   "cell_type": "code",
   "execution_count": 5,
   "id": "4fa8070e",
   "metadata": {},
   "outputs": [
    {
     "name": "stdout",
     "output_type": "stream",
     "text": [
      "The average is  4.5\n"
     ]
    }
   ],
   "source": [
    "average(3,6)"
   ]
  },
  {
   "cell_type": "code",
   "execution_count": 9,
   "id": "2dd31d60",
   "metadata": {},
   "outputs": [
    {
     "name": "stdout",
     "output_type": "stream",
     "text": [
      "Hellow , json John Whatson\n"
     ]
    }
   ],
   "source": [
    "def name(fname,mname = \"John\" , lname = \"Whatson\"):\n",
    "    print(\"Hellow ,\" , fname , mname, lname)\n",
    "name(\"json\")"
   ]
  },
  {
   "cell_type": "code",
   "execution_count": 8,
   "id": "b39f5c51",
   "metadata": {},
   "outputs": [
    {
     "name": "stdout",
     "output_type": "stream",
     "text": [
      "The average is  17.0\n"
     ]
    }
   ],
   "source": [
    "# 03.\"Keyword Arguments \": We can provide Arguments in order with key=value pairs This way interpreter recognises the order \n",
    "# in which the arguments are passed does not matter\n",
    "def average(a,b,c):\n",
    "    print(\"The average is \" , (a+b+c)/2)\n",
    "average (b = 9 , a=21, c = 4)\n",
    "\n"
   ]
  },
  {
   "cell_type": "code",
   "execution_count": 15,
   "id": "4af7e5f9",
   "metadata": {},
   "outputs": [],
   "source": [
    "# 04.Variable Length Arguments : \n",
    "def average (*numbers):\n",
    "    sum = 0\n",
    "    for i in numbers:\n",
    "      sum = sum + i \n",
    "    print (\"Average is : \", sum/len(numbers))"
   ]
  },
  {
   "cell_type": "code",
   "execution_count": 18,
   "id": "d1e29b5f",
   "metadata": {},
   "outputs": [
    {
     "name": "stdout",
     "output_type": "stream",
     "text": [
      "Average is :  5.666666666666667\n"
     ]
    }
   ],
   "source": [
    "average(4,6,7)"
   ]
  },
  {
   "cell_type": "code",
   "execution_count": 21,
   "id": "69756013",
   "metadata": {},
   "outputs": [
    {
     "name": "stdout",
     "output_type": "stream",
     "text": [
      "<class 'dict'>\n",
      "Hellow  James Buchanan Barnes\n"
     ]
    }
   ],
   "source": [
    "def name(**name):\n",
    "    print(type(name))\n",
    "    print(\"Hellow \" , name[\"fname\"], name[\"mname\"],name[\"lname\"])\n",
    "    \n",
    "name(mname = \"Buchanan\", lname = \"Barnes\" , fname = \"James\")"
   ]
  },
  {
   "cell_type": "code",
   "execution_count": 42,
   "id": "72b80914",
   "metadata": {},
   "outputs": [
    {
     "name": "stdout",
     "output_type": "stream",
     "text": [
      "None\n"
     ]
    }
   ],
   "source": [
    "def average (**numbers):\n",
    "    sum = 0\n",
    "    for i in numbers:\n",
    "        sum = sum + i \n",
    "        return sum / len(numbers)\n",
    "\n",
    "c = average ()\n",
    "print(c)"
   ]
  },
  {
   "cell_type": "code",
   "execution_count": 37,
   "id": "0016f6ec",
   "metadata": {},
   "outputs": [
    {
     "name": "stdout",
     "output_type": "stream",
     "text": [
      "None\n"
     ]
    }
   ],
   "source": [
    "c = average()\n",
    "print(c)"
   ]
  },
  {
   "cell_type": "code",
   "execution_count": 38,
   "id": "78a55dc7",
   "metadata": {},
   "outputs": [],
   "source": [
    "def average (*numbers):\n",
    "    sum = 0\n",
    "    for i in numbers:\n",
    "      sum = sum + i \n",
    "    print (\"Average is : \", sum/len(numbers))"
   ]
  },
  {
   "cell_type": "code",
   "execution_count": 39,
   "id": "314af639",
   "metadata": {},
   "outputs": [
    {
     "name": "stdout",
     "output_type": "stream",
     "text": [
      "Average is :  5.2\n"
     ]
    }
   ],
   "source": [
    "c = average(3,5,6,6,6)\n"
   ]
  },
  {
   "cell_type": "code",
   "execution_count": 43,
   "id": "83c2be9c",
   "metadata": {},
   "outputs": [],
   "source": [
    "# DAY -22: lists in Python:The \n",
    "# Lists can hold any values it may be string,numbers,boolean \n",
    "l = [3,4,6]"
   ]
  },
  {
   "cell_type": "code",
   "execution_count": 45,
   "id": "af1a1fd7",
   "metadata": {},
   "outputs": [
    {
     "name": "stdout",
     "output_type": "stream",
     "text": [
      "[3, 4, 6]\n"
     ]
    }
   ],
   "source": [
    "print(l)"
   ]
  },
  {
   "cell_type": "code",
   "execution_count": 46,
   "id": "38394911",
   "metadata": {},
   "outputs": [
    {
     "name": "stdout",
     "output_type": "stream",
     "text": [
      "3\n"
     ]
    }
   ],
   "source": [
    "print(l[0])"
   ]
  },
  {
   "cell_type": "code",
   "execution_count": 49,
   "id": "17a9718c",
   "metadata": {},
   "outputs": [
    {
     "name": "stdout",
     "output_type": "stream",
     "text": [
      "6\n"
     ]
    }
   ],
   "source": [
    "print(l[2])"
   ]
  },
  {
   "cell_type": "code",
   "execution_count": 53,
   "id": "e8aac945",
   "metadata": {},
   "outputs": [
    {
     "name": "stdout",
     "output_type": "stream",
     "text": [
      "[3]\n"
     ]
    }
   ],
   "source": [
    "\n",
    "print([len(l)])"
   ]
  },
  {
   "cell_type": "code",
   "execution_count": 4,
   "id": "9c691b51",
   "metadata": {},
   "outputs": [],
   "source": [
    "marks = [4,46,6,9,\"shreyas\", \"chillal\"]"
   ]
  },
  {
   "cell_type": "code",
   "execution_count": 5,
   "id": "b2884210",
   "metadata": {},
   "outputs": [
    {
     "ename": "NameError",
     "evalue": "name 'l' is not defined",
     "output_type": "error",
     "traceback": [
      "\u001b[1;31m---------------------------------------------------------------------------\u001b[0m",
      "\u001b[1;31mNameError\u001b[0m                                 Traceback (most recent call last)",
      "Cell \u001b[1;32mIn[5], line 1\u001b[0m\n\u001b[1;32m----> 1\u001b[0m \u001b[38;5;28mlen\u001b[39m(\u001b[43ml\u001b[49m)\u001b[38;5;241m-\u001b[39m\u001b[38;5;241m3\u001b[39m\n",
      "\u001b[1;31mNameError\u001b[0m: name 'l' is not defined"
     ]
    }
   ],
   "source": [
    "len(l)-3"
   ]
  },
  {
   "cell_type": "code",
   "execution_count": 6,
   "id": "3785e24b",
   "metadata": {},
   "outputs": [
    {
     "name": "stdout",
     "output_type": "stream",
     "text": [
      "no\n"
     ]
    }
   ],
   "source": [
    "if 7 in marks:\n",
    "    print(\"yes\")\n",
    "    \n",
    "else:\n",
    "    print (\"no\")"
   ]
  },
  {
   "cell_type": "code",
   "execution_count": 7,
   "id": "dea0d88a",
   "metadata": {},
   "outputs": [
    {
     "name": "stdout",
     "output_type": "stream",
     "text": [
      "[46, 6, 9, 'shreyas', 'chillal']\n"
     ]
    }
   ],
   "source": [
    "print(marks [1:])"
   ]
  },
  {
   "cell_type": "code",
   "execution_count": 8,
   "id": "4a119ccb",
   "metadata": {},
   "outputs": [
    {
     "name": "stdout",
     "output_type": "stream",
     "text": [
      "[4, 46, 6, 9, 'shreyas', 'chillal']\n"
     ]
    }
   ],
   "source": [
    "print(marks [:])"
   ]
  },
  {
   "cell_type": "code",
   "execution_count": 9,
   "id": "c2978f4c",
   "metadata": {},
   "outputs": [
    {
     "name": "stdout",
     "output_type": "stream",
     "text": [
      "[46, 6, 9, 'shreyas', 'chillal']\n"
     ]
    }
   ],
   "source": [
    "print(marks[1:8:])"
   ]
  },
  {
   "cell_type": "code",
   "execution_count": 11,
   "id": "0f782098",
   "metadata": {},
   "outputs": [
    {
     "name": "stdout",
     "output_type": "stream",
     "text": [
      "[46, 6, 9, 'shreyas', 'chillal']\n"
     ]
    }
   ],
   "source": [
    "print(marks[1:6])"
   ]
  },
  {
   "cell_type": "code",
   "execution_count": 12,
   "id": "0ab95490",
   "metadata": {},
   "outputs": [
    {
     "name": "stdout",
     "output_type": "stream",
     "text": [
      "[4, 46, 6, 9, 'shreyas']\n"
     ]
    }
   ],
   "source": [
    "print(marks[0:5])"
   ]
  },
  {
   "cell_type": "code",
   "execution_count": 14,
   "id": "4caadb0e",
   "metadata": {},
   "outputs": [
    {
     "name": "stdout",
     "output_type": "stream",
     "text": [
      "[4, 9]\n"
     ]
    }
   ],
   "source": [
    "print(marks[0:6:3])"
   ]
  },
  {
   "cell_type": "code",
   "execution_count": 15,
   "id": "b906bece",
   "metadata": {},
   "outputs": [
    {
     "name": "stdout",
     "output_type": "stream",
     "text": [
      "[4, 6, 'shreyas']\n"
     ]
    }
   ],
   "source": [
    "print(marks[0:6:2])"
   ]
  },
  {
   "cell_type": "code",
   "execution_count": 16,
   "id": "33368fc7",
   "metadata": {},
   "outputs": [],
   "source": [
    "# List comprehension\n",
    "lst = [i for i in range(4)]"
   ]
  },
  {
   "cell_type": "code",
   "execution_count": 17,
   "id": "b4c69eb7",
   "metadata": {},
   "outputs": [
    {
     "name": "stdout",
     "output_type": "stream",
     "text": [
      "[0, 1, 2, 3]\n"
     ]
    }
   ],
   "source": [
    "print(lst)"
   ]
  },
  {
   "cell_type": "code",
   "execution_count": 25,
   "id": "2b415f06",
   "metadata": {},
   "outputs": [],
   "source": [
    "lst_1 = [i for i in range(45)]"
   ]
  },
  {
   "cell_type": "code",
   "execution_count": 26,
   "id": "86557788",
   "metadata": {},
   "outputs": [
    {
     "name": "stdout",
     "output_type": "stream",
     "text": [
      "[0, 1, 2, 3, 4, 5, 6, 7, 8, 9, 10, 11, 12, 13, 14, 15, 16, 17, 18, 19, 20, 21, 22, 23, 24, 25, 26, 27, 28, 29, 30, 31, 32, 33, 34, 35, 36, 37, 38, 39, 40, 41, 42, 43, 44]\n"
     ]
    }
   ],
   "source": [
    "print(lst_1)"
   ]
  },
  {
   "cell_type": "code",
   "execution_count": 24,
   "id": "1dc37c0f",
   "metadata": {},
   "outputs": [
    {
     "name": "stdout",
     "output_type": "stream",
     "text": [
      "[4, 46, 6, 9, 'shreyas', 'chillal']\n"
     ]
    }
   ],
   "source": [
    "print(marks[0:len(marks)])"
   ]
  },
  {
   "cell_type": "code",
   "execution_count": 27,
   "id": "80e07582",
   "metadata": {},
   "outputs": [],
   "source": [
    "lst = [i*i for i in range(10) ]"
   ]
  },
  {
   "cell_type": "code",
   "execution_count": 28,
   "id": "87a8336c",
   "metadata": {},
   "outputs": [
    {
     "name": "stdout",
     "output_type": "stream",
     "text": [
      "[0, 1, 4, 9, 16, 25, 36, 49, 64, 81]\n"
     ]
    }
   ],
   "source": [
    "print(lst)"
   ]
  },
  {
   "cell_type": "code",
   "execution_count": 29,
   "id": "f4aaf2d4",
   "metadata": {},
   "outputs": [],
   "source": [
    "lst = [i*i for i in range(10) if i%2 == 0]"
   ]
  },
  {
   "cell_type": "code",
   "execution_count": 30,
   "id": "17ebbfbd",
   "metadata": {},
   "outputs": [
    {
     "name": "stdout",
     "output_type": "stream",
     "text": [
      "[0, 4, 16, 36, 64]\n"
     ]
    }
   ],
   "source": [
    "print(lst)"
   ]
  },
  {
   "cell_type": "code",
   "execution_count": 31,
   "id": "209787e4",
   "metadata": {},
   "outputs": [
    {
     "name": "stdout",
     "output_type": "stream",
     "text": [
      "[1, 2, 3, 4, 5, 6]\n"
     ]
    }
   ],
   "source": [
    "# \"List Methods\" in Python:\n",
    "l = [1,2,3,4,5,6]\n",
    "print(l)"
   ]
  },
  {
   "cell_type": "code",
   "execution_count": 32,
   "id": "5913a687",
   "metadata": {},
   "outputs": [],
   "source": [
    "l.append(7)"
   ]
  },
  {
   "cell_type": "code",
   "execution_count": 33,
   "id": "2695bbe0",
   "metadata": {},
   "outputs": [
    {
     "name": "stdout",
     "output_type": "stream",
     "text": [
      "[1, 2, 3, 4, 5, 6, 7]\n"
     ]
    }
   ],
   "source": [
    "print(l)"
   ]
  },
  {
   "cell_type": "code",
   "execution_count": 34,
   "id": "188c7111",
   "metadata": {},
   "outputs": [],
   "source": [
    "l = [23,1,4,5,6,0]"
   ]
  },
  {
   "cell_type": "code",
   "execution_count": 35,
   "id": "f7dad0f6",
   "metadata": {},
   "outputs": [],
   "source": [
    "# we can lists in order with this \"sort method\"\n",
    "l.sort()"
   ]
  },
  {
   "cell_type": "code",
   "execution_count": 36,
   "id": "83930503",
   "metadata": {},
   "outputs": [
    {
     "name": "stdout",
     "output_type": "stream",
     "text": [
      "[0, 1, 4, 5, 6, 23]\n"
     ]
    }
   ],
   "source": [
    "print(l)"
   ]
  },
  {
   "cell_type": "code",
   "execution_count": 37,
   "id": "e54b84b3",
   "metadata": {},
   "outputs": [],
   "source": [
    "l.sort(reverse=True)"
   ]
  },
  {
   "cell_type": "code",
   "execution_count": 38,
   "id": "9e4f3195",
   "metadata": {},
   "outputs": [
    {
     "name": "stdout",
     "output_type": "stream",
     "text": [
      "[23, 6, 5, 4, 1, 0]\n"
     ]
    }
   ],
   "source": [
    "print(l)"
   ]
  },
  {
   "cell_type": "code",
   "execution_count": 50,
   "id": "4b1a1927",
   "metadata": {},
   "outputs": [],
   "source": [
    "l_1 = [23,5,6,1,46,8,5]"
   ]
  },
  {
   "cell_type": "code",
   "execution_count": 51,
   "id": "d90d03b0",
   "metadata": {},
   "outputs": [
    {
     "name": "stdout",
     "output_type": "stream",
     "text": [
      "[1, 5, 5, 6, 8, 23, 46]\n"
     ]
    }
   ],
   "source": [
    "l_1.sort()\n",
    "print(l_1)"
   ]
  },
  {
   "cell_type": "code",
   "execution_count": 52,
   "id": "4017c9fb",
   "metadata": {},
   "outputs": [
    {
     "name": "stdout",
     "output_type": "stream",
     "text": [
      "0\n"
     ]
    }
   ],
   "source": [
    "print(l_1.index(1))"
   ]
  },
  {
   "cell_type": "code",
   "execution_count": 53,
   "id": "0d710a76",
   "metadata": {},
   "outputs": [
    {
     "name": "stdout",
     "output_type": "stream",
     "text": [
      "1\n"
     ]
    }
   ],
   "source": [
    "print(l_1.index(5))"
   ]
  },
  {
   "cell_type": "code",
   "execution_count": 54,
   "id": "fd020635",
   "metadata": {},
   "outputs": [
    {
     "name": "stdout",
     "output_type": "stream",
     "text": [
      "2\n"
     ]
    }
   ],
   "source": [
    "print(l_1.count(5))"
   ]
  },
  {
   "cell_type": "code",
   "execution_count": 56,
   "id": "c4871702",
   "metadata": {},
   "outputs": [
    {
     "name": "stdout",
     "output_type": "stream",
     "text": [
      "0\n"
     ]
    }
   ],
   "source": [
    "print(l_1.count(3))"
   ]
  },
  {
   "cell_type": "code",
   "execution_count": 60,
   "id": "0117cd50",
   "metadata": {},
   "outputs": [
    {
     "name": "stdout",
     "output_type": "stream",
     "text": [
      "[0, 5, 5, 6, 8, 23, 46]\n"
     ]
    }
   ],
   "source": [
    "m = l_1 \n",
    "m[0] = 0\n",
    "print(l_1)"
   ]
  },
  {
   "cell_type": "code",
   "execution_count": 61,
   "id": "2ecdc057",
   "metadata": {},
   "outputs": [],
   "source": [
    "l_1.sort()"
   ]
  },
  {
   "cell_type": "code",
   "execution_count": 62,
   "id": "cc822863",
   "metadata": {},
   "outputs": [
    {
     "name": "stdout",
     "output_type": "stream",
     "text": [
      "[0, 5, 5, 6, 8, 23, 46]\n"
     ]
    }
   ],
   "source": [
    "print(l_1)"
   ]
  },
  {
   "cell_type": "code",
   "execution_count": 64,
   "id": "24f0160b",
   "metadata": {},
   "outputs": [
    {
     "name": "stdout",
     "output_type": "stream",
     "text": [
      "[1, 2, 89, 45, 76]\n"
     ]
    }
   ],
   "source": [
    "l_2 = [1,2,89,45,76]\n",
    "print(l_2)"
   ]
  },
  {
   "cell_type": "code",
   "execution_count": 68,
   "id": "b9381295",
   "metadata": {},
   "outputs": [],
   "source": [
    "l_2.sort()"
   ]
  },
  {
   "cell_type": "code",
   "execution_count": 69,
   "id": "692dd06b",
   "metadata": {},
   "outputs": [
    {
     "name": "stdout",
     "output_type": "stream",
     "text": [
      "[1, 2, 45, 76, 89]\n"
     ]
    }
   ],
   "source": [
    "print(l_2)"
   ]
  },
  {
   "cell_type": "code",
   "execution_count": 71,
   "id": "12a2b4b7",
   "metadata": {},
   "outputs": [
    {
     "name": "stdout",
     "output_type": "stream",
     "text": [
      "[1, 2, 45, 76, 89]\n"
     ]
    }
   ],
   "source": [
    "m = l_2.copy()\n",
    "# Here only m changes not l_2\n",
    "m[0] = 0\n",
    "print(l_2)"
   ]
  },
  {
   "cell_type": "code",
   "execution_count": 72,
   "id": "40f3b8dc",
   "metadata": {},
   "outputs": [
    {
     "name": "stdout",
     "output_type": "stream",
     "text": [
      "[0, 2, 45, 76, 89]\n"
     ]
    }
   ],
   "source": [
    "print(m)"
   ]
  },
  {
   "cell_type": "code",
   "execution_count": 76,
   "id": "6264a2bb",
   "metadata": {},
   "outputs": [
    {
     "name": "stdout",
     "output_type": "stream",
     "text": [
      "[0, 344, 2, 45, 76, 89]\n"
     ]
    }
   ],
   "source": [
    "m.insert(1,344)\n",
    "print(m)"
   ]
  },
  {
   "cell_type": "code",
   "execution_count": 78,
   "id": "92eb60ac",
   "metadata": {},
   "outputs": [
    {
     "name": "stdout",
     "output_type": "stream",
     "text": [
      "[1, 344, 2, 45, 76, 89, 233, 56, 67]\n"
     ]
    }
   ],
   "source": [
    "m = [233,56,67]\n",
    "l_2.extend (m)\n",
    "# Add m lists at the end of the l\n",
    "print(l_2)"
   ]
  },
  {
   "cell_type": "code",
   "execution_count": 81,
   "id": "a185d650",
   "metadata": {},
   "outputs": [],
   "source": [
    "k = l_2 + m"
   ]
  },
  {
   "cell_type": "code",
   "execution_count": 82,
   "id": "bdbaa2f4",
   "metadata": {},
   "outputs": [
    {
     "name": "stdout",
     "output_type": "stream",
     "text": [
      "[1, 344, 2, 45, 76, 89, 233, 56, 67, 233, 56, 67]\n"
     ]
    }
   ],
   "source": [
    "print(k)"
   ]
  },
  {
   "cell_type": "code",
   "execution_count": 13,
   "id": "4ce2c4f0",
   "metadata": {},
   "outputs": [
    {
     "name": "stdout",
     "output_type": "stream",
     "text": [
      "<class 'tuple'> (1, 5, 4.4, 67, 896)\n"
     ]
    }
   ],
   "source": [
    "# DAY-24 : \"Tuples\" in Python:List of items seperated by commas and enclosed in a parenthesis \n",
    "# The single difference between tuple and list is that list are \"mutable\" where as tuples are \"immutable\" objects \n",
    "t = (1,5,4.4,67,896)\n",
    "print(type(t),t)\n"
   ]
  },
  {
   "cell_type": "code",
   "execution_count": 14,
   "id": "d40146fa",
   "metadata": {},
   "outputs": [
    {
     "data": {
      "text/plain": [
       "tuple"
      ]
     },
     "execution_count": 14,
     "metadata": {},
     "output_type": "execute_result"
    }
   ],
   "source": [
    "# single item in a tuple wont be existed to include single item we must seperate the item with comma \n",
    "t_1 = (3,)\n",
    "type(t)"
   ]
  },
  {
   "cell_type": "code",
   "execution_count": 15,
   "id": "25f50271",
   "metadata": {},
   "outputs": [
    {
     "data": {
      "text/plain": [
       "int"
      ]
     },
     "execution_count": 15,
     "metadata": {},
     "output_type": "execute_result"
    }
   ],
   "source": [
    "t_1 = (3)\n",
    "type(t_1)"
   ]
  },
  {
   "cell_type": "code",
   "execution_count": 7,
   "id": "d1150d42",
   "metadata": {},
   "outputs": [
    {
     "ename": "TypeError",
     "evalue": "'int' object does not support item assignment",
     "output_type": "error",
     "traceback": [
      "\u001b[1;31m---------------------------------------------------------------------------\u001b[0m",
      "\u001b[1;31mTypeError\u001b[0m                                 Traceback (most recent call last)",
      "Cell \u001b[1;32mIn[7], line 3\u001b[0m\n\u001b[0;32m      1\u001b[0m \u001b[38;5;66;03m# Example for \"immutable tuple\" \u001b[39;00m\n\u001b[0;32m      2\u001b[0m t_2 \u001b[38;5;241m=\u001b[39m (\u001b[38;5;241m1\u001b[39m,\u001b[38;5;241m73.5\u001b[39m,\u001b[38;5;241m0\u001b[39m,\u001b[38;5;241m8\u001b[39m)\n\u001b[1;32m----> 3\u001b[0m t[\u001b[38;5;241m0\u001b[39m] \u001b[38;5;241m=\u001b[39m \u001b[38;5;241m45\u001b[39m\n",
      "\u001b[1;31mTypeError\u001b[0m: 'int' object does not support item assignment"
     ]
    }
   ],
   "source": [
    "# Example for \"immutable tuple\" \n",
    "t_2 = (1,73.5,0,8)\n",
    "t[0] = 45\n",
    "# Here i got an error since,tuples are wont able to change"
   ]
  },
  {
   "cell_type": "code",
   "execution_count": 16,
   "id": "918375fa",
   "metadata": {},
   "outputs": [
    {
     "name": "stdout",
     "output_type": "stream",
     "text": [
      "4\n"
     ]
    }
   ],
   "source": [
    "print(tup[2])"
   ]
  },
  {
   "cell_type": "code",
   "execution_count": 19,
   "id": "bb1b907b",
   "metadata": {},
   "outputs": [
    {
     "data": {
      "text/plain": [
       "5"
      ]
     },
     "execution_count": 19,
     "metadata": {},
     "output_type": "execute_result"
    }
   ],
   "source": [
    "len(t)"
   ]
  },
  {
   "cell_type": "code",
   "execution_count": 21,
   "id": "4ac5c8a4",
   "metadata": {},
   "outputs": [
    {
     "name": "stdout",
     "output_type": "stream",
     "text": [
      "5\n"
     ]
    }
   ],
   "source": [
    "print(t[-4])"
   ]
  },
  {
   "cell_type": "code",
   "execution_count": 22,
   "id": "2ef0fd1c",
   "metadata": {},
   "outputs": [
    {
     "name": "stdout",
     "output_type": "stream",
     "text": [
      "1\n"
     ]
    }
   ],
   "source": [
    "print(len(t)-4)"
   ]
  },
  {
   "cell_type": "code",
   "execution_count": 23,
   "id": "aea07ba6",
   "metadata": {},
   "outputs": [
    {
     "data": {
      "text/plain": [
       "3"
      ]
     },
     "execution_count": 23,
     "metadata": {},
     "output_type": "execute_result"
    }
   ],
   "source": [
    "len(tup)"
   ]
  },
  {
   "cell_type": "code",
   "execution_count": 24,
   "id": "4f9f53f1",
   "metadata": {},
   "outputs": [
    {
     "data": {
      "text/plain": [
       "4"
      ]
     },
     "execution_count": 24,
     "metadata": {},
     "output_type": "execute_result"
    }
   ],
   "source": [
    "len(t_2)"
   ]
  },
  {
   "cell_type": "code",
   "execution_count": 30,
   "id": "164cc53d",
   "metadata": {},
   "outputs": [
    {
     "name": "stdout",
     "output_type": "stream",
     "text": [
      "Yes 896 is present in a tuple\n"
     ]
    }
   ],
   "source": [
    "if 896 in t:\n",
    "    print(\"Yes 896 is present in a tuple\")"
   ]
  },
  {
   "cell_type": "code",
   "execution_count": 33,
   "id": "d830a0b1",
   "metadata": {},
   "outputs": [
    {
     "name": "stdout",
     "output_type": "stream",
     "text": [
      "(5, 4.4, 67)\n"
     ]
    }
   ],
   "source": [
    "# In tuple we can able to slice the items :\n",
    "t_3 = t[1:4]\n",
    "print(t_3)"
   ]
  },
  {
   "cell_type": "code",
   "execution_count": 34,
   "id": "cd4cd5c9",
   "metadata": {},
   "outputs": [
    {
     "data": {
      "text/plain": [
       "3"
      ]
     },
     "execution_count": 34,
     "metadata": {},
     "output_type": "execute_result"
    }
   ],
   "source": [
    "len(t_3)"
   ]
  },
  {
   "cell_type": "code",
   "execution_count": 36,
   "id": "68cd4cb0",
   "metadata": {},
   "outputs": [
    {
     "name": "stdout",
     "output_type": "stream",
     "text": [
      "yes\n"
     ]
    }
   ],
   "source": [
    "if 73.5 in t_2:\n",
    "    print(\"yes\")"
   ]
  },
  {
   "cell_type": "code",
   "execution_count": 37,
   "id": "72767621",
   "metadata": {},
   "outputs": [],
   "source": [
    "# DAY-25:\"Operations on Tuples\" in Python:\n",
    "# Indirectly,to change objects in tuple first copy the objects than we need to creat list for that tuple than change the tuple  "
   ]
  },
  {
   "cell_type": "code",
   "execution_count": 39,
   "id": "a8cd2ab0",
   "metadata": {},
   "outputs": [
    {
     "name": "stdout",
     "output_type": "stream",
     "text": [
      "('Spain', 'Italy', 'India', 'England', 'Germany')\n"
     ]
    }
   ],
   "source": [
    "# Example:To change the tuple \n",
    "countries =  (\"Spain\", \"Italy\",\"India\",\"England\",\"Germany\")\n",
    "print(countries)"
   ]
  },
  {
   "cell_type": "code",
   "execution_count": 41,
   "id": "b59e5fe2",
   "metadata": {},
   "outputs": [
    {
     "name": "stdout",
     "output_type": "stream",
     "text": [
      "England\n"
     ]
    }
   ],
   "source": [
    "print(countries[3])"
   ]
  },
  {
   "cell_type": "code",
   "execution_count": 45,
   "id": "2907c77f",
   "metadata": {},
   "outputs": [
    {
     "name": "stdout",
     "output_type": "stream",
     "text": [
      "['Spain', 'Italy', 'finland', 'Russia', 'Russia']\n"
     ]
    }
   ],
   "source": [
    "# Indirectly,to change objects in tuple first copy the objects than we need to creat list for that tuple than change the tuple\n",
    "temp = list(countries)\n",
    "temp.append(\"Russia\")\n",
    "temp.pop(3)\n",
    "temp[2] = \"finland\"\n",
    "countries = tuple(temp)\n",
    "print(temp)"
   ]
  },
  {
   "cell_type": "code",
   "execution_count": 48,
   "id": "8901337d",
   "metadata": {},
   "outputs": [
    {
     "name": "stdout",
     "output_type": "stream",
     "text": [
      "('Pakistan', 'Afghanistan', 'Bangladesh', 'Srilanka', 'Vietnam', 'India', 'China')\n"
     ]
    }
   ],
   "source": [
    "# We can concatinate the tuples with the another tuple\n",
    "tup = (\"Pakistan\", \"Afghanistan\" , \"Bangladesh\" , \"Srilanka\")\n",
    "tup_1 = (\"Vietnam\",\"India\",\"China\")\n",
    "SouthEastAsia = tup + tup_1\n",
    "print(SouthEastAsia)"
   ]
  },
  {
   "cell_type": "code",
   "execution_count": 59,
   "id": "85b7d551",
   "metadata": {},
   "outputs": [
    {
     "name": "stdout",
     "output_type": "stream",
     "text": [
      "4\n"
     ]
    }
   ],
   "source": [
    "tup_4 = (0,1,2,3,8,5,3,3,3,5,5,4)\n",
    "res = tup_4.count(3)\n",
    "print(res)\n"
   ]
  },
  {
   "cell_type": "code",
   "execution_count": 62,
   "id": "2becc7db",
   "metadata": {},
   "outputs": [
    {
     "name": "stdout",
     "output_type": "stream",
     "text": [
      "11\n"
     ]
    }
   ],
   "source": [
    "print(tup_4.index(4))"
   ]
  },
  {
   "cell_type": "code",
   "execution_count": 64,
   "id": "46f6223c",
   "metadata": {},
   "outputs": [
    {
     "name": "stdout",
     "output_type": "stream",
     "text": [
      "9\n"
     ]
    }
   ],
   "source": [
    "print(tup_4.index(5,6))"
   ]
  },
  {
   "cell_type": "code",
   "execution_count": 2,
   "id": "63251019",
   "metadata": {},
   "outputs": [],
   "source": [
    "tup_4 = (0,1,2,3,8,5,3,3,3,5,5,4)"
   ]
  },
  {
   "cell_type": "code",
   "execution_count": 3,
   "id": "51b0e9af",
   "metadata": {},
   "outputs": [
    {
     "name": "stdout",
     "output_type": "stream",
     "text": [
      "(0, 1, 2, 3, 8, 5, 3, 3, 3, 5, 5, 4)\n"
     ]
    }
   ],
   "source": [
    "print(tup_4)"
   ]
  },
  {
   "cell_type": "code",
   "execution_count": 11,
   "id": "79feea16",
   "metadata": {},
   "outputs": [
    {
     "name": "stdout",
     "output_type": "stream",
     "text": [
      "11\n"
     ]
    }
   ],
   "source": [
    "print(tup_4.index(4,6))\n",
    "# Here we have obtained the index 4 of a tuple_4 "
   ]
  },
  {
   "cell_type": "code",
   "execution_count": 16,
   "id": "6472d1ac",
   "metadata": {},
   "outputs": [
    {
     "name": "stdout",
     "output_type": "stream",
     "text": [
      "1\n"
     ]
    }
   ],
   "source": [
    "print(tup_4.index(1))"
   ]
  },
  {
   "cell_type": "code",
   "execution_count": 17,
   "id": "fdbff201",
   "metadata": {},
   "outputs": [
    {
     "name": "stdout",
     "output_type": "stream",
     "text": [
      "11\n"
     ]
    }
   ],
   "source": [
    "print(tup_4.index(4))"
   ]
  },
  {
   "cell_type": "code",
   "execution_count": 18,
   "id": "3a969bce",
   "metadata": {},
   "outputs": [
    {
     "name": "stdout",
     "output_type": "stream",
     "text": [
      "4\n"
     ]
    }
   ],
   "source": [
    "print(tup_4.index(8))"
   ]
  },
  {
   "cell_type": "code",
   "execution_count": 19,
   "id": "ba0cbb7c",
   "metadata": {},
   "outputs": [
    {
     "name": "stdout",
     "output_type": "stream",
     "text": [
      "6\n"
     ]
    }
   ],
   "source": [
    "# Here the index of 3  in a slice of a tuple 4 to 8 is at \"6\"\n",
    "print(tup_4.index(3,4,8))"
   ]
  },
  {
   "cell_type": "code",
   "execution_count": 23,
   "id": "f886f7b6",
   "metadata": {},
   "outputs": [
    {
     "name": "stdout",
     "output_type": "stream",
     "text": [
      "4\n"
     ]
    }
   ],
   "source": [
    "print(tup_4.index(8))"
   ]
  },
  {
   "cell_type": "code",
   "execution_count": 26,
   "id": "6b988527",
   "metadata": {},
   "outputs": [
    {
     "name": "stdout",
     "output_type": "stream",
     "text": [
      "16:15:15\n",
      "16\n",
      "15\n",
      "15\n"
     ]
    }
   ],
   "source": [
    "# DAY-26:Exercise-2:Create a programme to show the local time \n",
    "import time \n",
    "timestamp = time.strftime('%H:%M:%S')\n",
    "print(timestamp)\n",
    "timestamp = time.strftime('%H')\n",
    "print(timestamp)\n",
    "timestamp = time.strftime('%M')\n",
    "print(timestamp)\n",
    "timestamp = time.strftime('%S')\n",
    "print(timestamp)"
   ]
  },
  {
   "cell_type": "code",
   "execution_count": 28,
   "id": "3d9fdbd2",
   "metadata": {},
   "outputs": [
    {
     "name": "stdout",
     "output_type": "stream",
     "text": [
      "16:17:47\n",
      "16\n"
     ]
    }
   ],
   "source": [
    "import time \n",
    "timestamp = time.strftime('%H:%M:%S')\n",
    "print(timestamp)\n",
    "hour = int(time.strftime('%H'))\n",
    "print(hour)"
   ]
  },
  {
   "cell_type": "code",
   "execution_count": 39,
   "id": "dd04b753",
   "metadata": {},
   "outputs": [
    {
     "name": "stdout",
     "output_type": "stream",
     "text": [
      "16:27:08\n",
      "Enter hour: 5\n",
      "5\n",
      "Good Morning Sir \n"
     ]
    }
   ],
   "source": [
    "timestamp = time.strftime('%H:%M:%S')\n",
    "print(timestamp)\n",
    "hour = int(time.strftime('%H'))\n",
    "hour = int(input(\"Enter hour: \"))\n",
    "print(hour)\n",
    "\n",
    "if (hour>0 and hour<12):\n",
    "    print( \"Good Morning Sir \")\n",
    "elif(hour>=12 and hour<17):\n",
    "    print(\"Good Afternoon Sir\")\n",
    "if(hour>=17 and hour<=0):\n",
    "    print(\"Good Night Sir \")"
   ]
  },
  {
   "cell_type": "code",
   "execution_count": null,
   "id": "b9afb547",
   "metadata": {},
   "outputs": [],
   "source": [
    "hour = int(time.strftime('%H'))\n",
    "hour = int(input(\"Enter hour: \"))\n",
    "print(hour)\n",
    "if (hour>0 and hour<12):\n",
    "    print( \"Good Morning Sir \")\n",
    "elif(hour>=12 and hour<17):\n",
    "    print(\"Good Afternoon Sir\")\n",
    "if(hour>=17 and hour<=20):\n",
    "    print(\"Good Evening Sir\")\n",
    "if(hour>20 and hour<=0):\n",
    "    print(\"Good Night Sir\")\n",
    "    "
   ]
  },
  {
   "cell_type": "code",
   "execution_count": null,
   "id": "baa37dd9",
   "metadata": {},
   "outputs": [],
   "source": [
    "#DAY-27_Exercise-3:Create a programme capable of displaying questions to the user like KBC:\n",
    "# Here we use \"list data types\" to store the the questions and their answers:fd\n",
    "# Display the final amount the person is taking home after playing the game:"
   ]
  },
  {
   "cell_type": "code",
   "execution_count": 1,
   "id": "cbc15b6c",
   "metadata": {},
   "outputs": [
    {
     "name": "stdout",
     "output_type": "stream",
     "text": [
      "Hey my nname is Shreyas and im from India\n"
     ]
    }
   ],
   "source": [
    "# DAY-28:\"f-String\" in Python :It helps in placing variables in String very conviniently\n",
    "letter = \"Hey my name is {} and im from {}\"\n",
    "country = \"India\"\n",
    "name = \"Shreyas\"\n",
    "print(letter.format(name , country))\n",
    "# This form of \"f-string\" gives less convinience for writing code since we are writing a lot of code"
   ]
  },
  {
   "cell_type": "code",
   "execution_count": 2,
   "id": "69796296",
   "metadata": {},
   "outputs": [
    {
     "name": "stdout",
     "output_type": "stream",
     "text": [
      "Hey my name is Shreyas and im from India\n"
     ]
    }
   ],
   "source": [
    "print(f\"Hey my name is {name} and im from {country}\")"
   ]
  },
  {
   "cell_type": "code",
   "execution_count": 10,
   "id": "28dd4389",
   "metadata": {},
   "outputs": [
    {
     "name": "stdout",
     "output_type": "stream",
     "text": [
      "For only 49.10 dollers!\n"
     ]
    }
   ],
   "source": [
    "txt = \"For only {price:.2f} dollers!\"\n",
    "print (txt.format(price = 49.099))"
   ]
  },
  {
   "cell_type": "code",
   "execution_count": 13,
   "id": "8de4c53b",
   "metadata": {},
   "outputs": [
    {
     "name": "stdout",
     "output_type": "stream",
     "text": [
      "For only 49.10 dollers!\n"
     ]
    }
   ],
   "source": [
    "# It can also be written in a following way:\n",
    "price = 49.099\n",
    "txt = f\"For only {price:.2f} dollers!\"\n",
    "print(txt)"
   ]
  },
  {
   "cell_type": "code",
   "execution_count": 14,
   "id": "adfb92e3",
   "metadata": {},
   "outputs": [
    {
     "name": "stdout",
     "output_type": "stream",
     "text": [
      "<class 'str'>\n"
     ]
    }
   ],
   "source": [
    "print(type (f\"{2*30}\"))"
   ]
  },
  {
   "cell_type": "code",
   "execution_count": 18,
   "id": "59a35000",
   "metadata": {},
   "outputs": [
    {
     "name": "stdout",
     "output_type": "stream",
     "text": [
      " We use f-strings like this:Hey my name is Shreyas and Im from India\n"
     ]
    }
   ],
   "source": [
    "print (f\" We use f-strings like this:Hey my name is {name} and Im from {country}\" )"
   ]
  },
  {
   "cell_type": "code",
   "execution_count": 20,
   "id": "7b08dc12",
   "metadata": {},
   "outputs": [
    {
     "name": "stdout",
     "output_type": "stream",
     "text": [
      " We use f-strings like this:Hey my name is {name} and Im from {country}\n"
     ]
    }
   ],
   "source": [
    "print (f\" We use f-strings like this:Hey my name is {{name}} and Im from {{country}}\" )"
   ]
  },
  {
   "cell_type": "markdown",
   "id": "2078a2a0",
   "metadata": {},
   "source": [
    "<!--  -->"
   ]
  },
  {
   "cell_type": "code",
   "execution_count": 23,
   "id": "e60586b4",
   "metadata": {},
   "outputs": [
    {
     "name": "stdout",
     "output_type": "stream",
     "text": [
      "25\n",
      "Takes in a number n, returns the square of n\n"
     ]
    }
   ],
   "source": [
    "# DAY-29:\"DOCSTRING\" and \"PEP-8\" in Python:\n",
    "# PEP:\"Python Enhancement Proposal\"\n",
    "# PEP-8 Provides the best practice for Python code\n",
    "# DOCSTRING are the \"Special type of a String\" which help us to understand functions Properly.it allows us to provide functions with a description\n",
    "# Docstring must be added right \"below the function name\" or right \"above the function body\"\n",
    "def square (n):\n",
    "    '''Takes in a number n, returns the square of n'''\n",
    "    print(n**2)\n",
    "square(5)\n",
    "print(square.__doc__)\n",
    "# Docsting won't be ignored like the comments It has a special treatment in Python\n"
   ]
  },
  {
   "cell_type": "code",
   "execution_count": 29,
   "id": "12b831bb",
   "metadata": {},
   "outputs": [],
   "source": [
    "# DAY-30:\"Recursion in Python\":Its a process of something for defining the itself \n",
    "# factorial(n) = n*factorial(n-1)\n",
    "def factorial(n):\n",
    "    if (n == 0 or n ==1 ):\n",
    "        return 1\n",
    "    else:\n",
    "        return n*factorial(n-1)\n"
   ]
  },
  {
   "cell_type": "code",
   "execution_count": 31,
   "id": "490e778d",
   "metadata": {},
   "outputs": [
    {
     "name": "stdout",
     "output_type": "stream",
     "text": [
      "6\n",
      "24\n",
      "120\n"
     ]
    }
   ],
   "source": [
    "print(factorial(3))\n",
    "print(factorial (4))\n",
    "print(factorial(5))"
   ]
  },
  {
   "cell_type": "code",
   "execution_count": 33,
   "id": "a01cfa61",
   "metadata": {},
   "outputs": [
    {
     "name": "stdout",
     "output_type": "stream",
     "text": [
      "1\n"
     ]
    }
   ],
   "source": [
    "print(factorial(0))"
   ]
  },
  {
   "cell_type": "code",
   "execution_count": 34,
   "id": "f16745ab",
   "metadata": {},
   "outputs": [],
   "source": [
    "# Calculation of Fibonnacci series :\n",
    "# f0 = 0 , f1 = 1\n",
    "# f2 = f0+f1\n",
    "# f3 = f1+f2\n",
    "# fn = f(n-1) + f(n-2)"
   ]
  },
  {
   "cell_type": "code",
   "execution_count": 68,
   "id": "6d39922d",
   "metadata": {},
   "outputs": [],
   "source": [
    "# Write a programme for Fibonacci Sequence:\n",
    "def fibonacci_series(n):\n",
    "    fib_series = []\n",
    "    if n <= 0:\n",
    "        return \"Number of terms should be positive\"\n",
    "    elif n == 1:\n",
    "        return [0]\n",
    "    elif n == 2:\n",
    "        return [0, 1]\n",
    "    else:\n",
    "        fib_series = [0, 1]\n",
    "        while len(fib_series) < n:\n",
    "            next_num = fib_series[-1] + fib_series[-2]\n",
    "            fib_series.append(next_num)\n",
    "        return fib_series\n"
   ]
  },
  {
   "cell_type": "code",
   "execution_count": 79,
   "id": "1e6fc546",
   "metadata": {},
   "outputs": [
    {
     "data": {
      "text/plain": [
       "[0, 1, 1, 2, 3, 5, 8]"
      ]
     },
     "execution_count": 79,
     "metadata": {},
     "output_type": "execute_result"
    }
   ],
   "source": [
    "fibonacci_series(7)\n"
   ]
  },
  {
   "cell_type": "code",
   "execution_count": 72,
   "id": "a3cfb792",
   "metadata": {},
   "outputs": [
    {
     "name": "stdout",
     "output_type": "stream",
     "text": [
      "{8, 9, 6, 7}\n"
     ]
    }
   ],
   "source": [
    "# DAY-31:\"Sets in Python\":  Sets are \"unordered\" collection of objects which does not repeat\n",
    "# Sets are also do not allow duplicate values \n",
    "s = {6,7,8,8,9,9}\n",
    "print(s)"
   ]
  },
  {
   "cell_type": "code",
   "execution_count": 73,
   "id": "38c084eb",
   "metadata": {},
   "outputs": [],
   "source": [
    "shreyas = set()"
   ]
  },
  {
   "cell_type": "code",
   "execution_count": 74,
   "id": "5372d72f",
   "metadata": {},
   "outputs": [
    {
     "name": "stdout",
     "output_type": "stream",
     "text": [
      "<class 'set'>\n"
     ]
    }
   ],
   "source": [
    "print(type(shreyas))"
   ]
  },
  {
   "cell_type": "code",
   "execution_count": 1,
   "id": "87435b9a",
   "metadata": {},
   "outputs": [],
   "source": [
    "# DAY-32:\"Set Methods In Python\"\n",
    "s1 = {1,2,3,4,5,6}\n",
    "s2 = {4,5,6,7,9}"
   ]
  },
  {
   "cell_type": "code",
   "execution_count": 3,
   "id": "dbfa0b95",
   "metadata": {},
   "outputs": [
    {
     "name": "stdout",
     "output_type": "stream",
     "text": [
      "{1, 2, 3, 4, 5, 6, 7, 9}\n"
     ]
    }
   ],
   "source": [
    "print(s1.union(s2))"
   ]
  },
  {
   "cell_type": "code",
   "execution_count": 4,
   "id": "1d937005",
   "metadata": {},
   "outputs": [
    {
     "name": "stdout",
     "output_type": "stream",
     "text": [
      "{1, 2, 3, 4, 5, 6} {4, 5, 6, 7, 9}\n"
     ]
    }
   ],
   "source": [
    "print(s1,s2)"
   ]
  },
  {
   "cell_type": "code",
   "execution_count": 8,
   "id": "c90c78f0",
   "metadata": {},
   "outputs": [
    {
     "name": "stdout",
     "output_type": "stream",
     "text": [
      "None\n"
     ]
    }
   ],
   "source": [
    "print(s1.update(s2))"
   ]
  },
  {
   "cell_type": "code",
   "execution_count": 5,
   "id": "af07b3dc",
   "metadata": {},
   "outputs": [],
   "source": [
    "# DAY-33:\"Dictionaries In Python\"\n",
    "# We won't scan the dictionary individualy to find the value corresponding to the dictionary\n",
    "dic = {\n",
    "    233:\"Shreyas\",\n",
    "    34:\"Sameeer\",\n",
    "    456:\"Suresh\"\n",
    "}"
   ]
  },
  {
   "cell_type": "code",
   "execution_count": 7,
   "id": "269f5956",
   "metadata": {},
   "outputs": [
    {
     "name": "stdout",
     "output_type": "stream",
     "text": [
      "Sameeer\n"
     ]
    }
   ],
   "source": [
    "print(dic[34])"
   ]
  },
  {
   "cell_type": "code",
   "execution_count": 9,
   "id": "ce75b4d5",
   "metadata": {},
   "outputs": [
    {
     "name": "stdout",
     "output_type": "stream",
     "text": [
      "{'name': 'Karan', 'age': 19, 'eligible': True}\n"
     ]
    }
   ],
   "source": [
    "info = {\"name\":\"Karan\" , \"age\": 19 , \"eligible\":True}\n",
    "print(info)"
   ]
  },
  {
   "cell_type": "code",
   "execution_count": 10,
   "id": "afc238fd",
   "metadata": {},
   "outputs": [
    {
     "name": "stdout",
     "output_type": "stream",
     "text": [
      "Karan\n"
     ]
    }
   ],
   "source": [
    "print(info['name'])"
   ]
  },
  {
   "cell_type": "code",
   "execution_count": 11,
   "id": "c5d61e90",
   "metadata": {},
   "outputs": [
    {
     "name": "stdout",
     "output_type": "stream",
     "text": [
      "19\n"
     ]
    }
   ],
   "source": [
    "print(info['age'])"
   ]
  },
  {
   "cell_type": "code",
   "execution_count": 12,
   "id": "9ee1f746",
   "metadata": {},
   "outputs": [
    {
     "name": "stdout",
     "output_type": "stream",
     "text": [
      "True\n"
     ]
    }
   ],
   "source": [
    "print(info['eligible'])"
   ]
  },
  {
   "cell_type": "code",
   "execution_count": 16,
   "id": "8443dd5d",
   "metadata": {},
   "outputs": [
    {
     "name": "stdout",
     "output_type": "stream",
     "text": [
      "{'name': 'Karan', 'age': 19, 'eligible': True}\n",
      "{'name': 'Karan', 'age': 19, 'eligible': True}\n",
      "{'name': 'Karan', 'age': 19, 'eligible': True}\n"
     ]
    }
   ],
   "source": [
    "for key in info.keys():\n",
    "    print(info)"
   ]
  },
  {
   "cell_type": "code",
   "execution_count": 17,
   "id": "381ebc63",
   "metadata": {},
   "outputs": [
    {
     "name": "stdout",
     "output_type": "stream",
     "text": [
      "dict_keys(['name', 'age', 'eligible'])\n"
     ]
    }
   ],
   "source": [
    "print(info.keys())"
   ]
  },
  {
   "cell_type": "code",
   "execution_count": 22,
   "id": "b6e26075",
   "metadata": {},
   "outputs": [
    {
     "name": "stdout",
     "output_type": "stream",
     "text": [
      "dict_values(['Karan', 19, True])\n"
     ]
    }
   ],
   "source": [
    "print(info.values())"
   ]
  },
  {
   "cell_type": "code",
   "execution_count": 24,
   "id": "6d4e2810",
   "metadata": {},
   "outputs": [
    {
     "name": "stdout",
     "output_type": "stream",
     "text": [
      "dict_keys(['name', 'age', 'eligible'])\n"
     ]
    }
   ],
   "source": [
    "print(info.keys())"
   ]
  },
  {
   "cell_type": "code",
   "execution_count": 29,
   "id": "671b1376",
   "metadata": {},
   "outputs": [
    {
     "ename": "NameError",
     "evalue": "name 'keys' is not defined",
     "output_type": "error",
     "traceback": [
      "\u001b[1;31m---------------------------------------------------------------------------\u001b[0m",
      "\u001b[1;31mNameError\u001b[0m                                 Traceback (most recent call last)",
      "Cell \u001b[1;32mIn[29], line 1\u001b[0m\n\u001b[1;32m----> 1\u001b[0m \u001b[38;5;28mprint\u001b[39m(\u001b[38;5;124mf\u001b[39m\u001b[38;5;124m\"\u001b[39m\u001b[38;5;124mThe value corresponding to the keys \u001b[39m\u001b[38;5;132;01m{\u001b[39;00mkeys\u001b[38;5;132;01m}\u001b[39;00m\u001b[38;5;124m is \u001b[39m\u001b[38;5;132;01m{\u001b[39;00minfo[keys]\u001b[38;5;132;01m}\u001b[39;00m\u001b[38;5;124m\"\u001b[39m)\n",
      "\u001b[1;31mNameError\u001b[0m: name 'keys' is not defined"
     ]
    }
   ],
   "source": [
    "print(f\"The value corresponding to the keys {keys} is {info[keys]}\")"
   ]
  },
  {
   "cell_type": "code",
   "execution_count": null,
   "id": "e9a11c23",
   "metadata": {},
   "outputs": [],
   "source": []
  }
 ],
 "metadata": {
  "kernelspec": {
   "display_name": "Python 3 (ipykernel)",
   "language": "python",
   "name": "python3"
  },
  "language_info": {
   "codemirror_mode": {
    "name": "ipython",
    "version": 3
   },
   "file_extension": ".py",
   "mimetype": "text/x-python",
   "name": "python",
   "nbconvert_exporter": "python",
   "pygments_lexer": "ipython3",
   "version": "3.10.9"
  }
 },
 "nbformat": 4,
 "nbformat_minor": 5
}
